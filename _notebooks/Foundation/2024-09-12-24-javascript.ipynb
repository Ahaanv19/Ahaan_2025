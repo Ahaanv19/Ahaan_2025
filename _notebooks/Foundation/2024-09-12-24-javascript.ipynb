{
 "cells": [
  {
   "cell_type": "raw",
   "metadata": {
    "vscode": {
     "languageId": "raw"
    }
   },
   "source": [
    "---\n",
    "toc: true\n",
    "comments: false\n",
    "layout: post\n",
    "title: \"Jupyter Notebooks\" \n",
    "type: ccc\n",
    "courses: { capsule: {week: 0} }\n",
    "permalink: /jupyter/\n",
    "---\n"
   ]
  },
  {
   "cell_type": "code",
   "execution_count": null,
   "metadata": {},
   "outputs": [],
   "source": [
    "print(\"Questions\")\n",
    "print(\"1. How do you correctly add SASS?\")"
   ]
  },
  {
   "cell_type": "code",
   "execution_count": null,
   "metadata": {},
   "outputs": [],
   "source": [
    "print(\"This code was made using Javascript and HTMl. CSS to customize colors, and \n",
    "my snakes, and then javascript was used to add functionality to the game, and the javascript was composed of conditional statements\n",
    "loops, and operators to help keep track of score. Javascript was also used for when\n",
    "the snake hit the board wall, to pop up a window on the users screen.\")\n",
    "\n",
    "\n"
   ]
  }
 ],
 "metadata": {
  "kernelspec": {
   "display_name": "Python 3",
   "language": "python",
   "name": "python3"
  },
  "language_info": {
   "name": "python",
   "version": "3.12.5"
  }
 },
 "nbformat": 4,
 "nbformat_minor": 2
}
