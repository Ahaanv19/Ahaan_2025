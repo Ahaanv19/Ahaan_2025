{
 "cells": [
  {
   "cell_type": "raw",
   "metadata": {
    "vscode": {
     "languageId": "raw"
    }
   },
   "source": [
    "---\n",
    "toc: true\n",
    "comments: true\n",
    "layout: post\n",
    "title: \"3.10 Homework\"\n",
    "type: ccc\n",
    "---"
   ]
  },
  {
   "cell_type": "markdown",
   "metadata": {},
   "source": [
    "## 3.10 Javascript Hacks "
   ]
  },
  {
   "cell_type": "code",
   "execution_count": 11,
   "metadata": {
    "vscode": {
     "languageId": "javascript"
    }
   },
   "outputs": [
    {
     "data": {
      "application/javascript": "\n<!DOCTYPE html>\n<html lang=\"en\">\n<head>\n    <meta charset=\"UTF-8\">\n    <meta name=\"viewport\" content=\"width=device-width, initial-scale=1.0\">\n    <title>Shopping Cart</title>\n    <style>\n        .cart {\n            font-size: 24px;\n        }\n        .cart-item {\n            display: inline-block;\n            margin-right: 10px;\n        }\n    </style>\n</head>\n<body>\n\n    <h1>Shopping Cart</h1>\n\n    <div>\n        <input type=\"text\" id=\"itemInput\" placeholder=\"Enter item name\">\n        <button onclick=\"addItem()\">Add to Cart</button>\n        <button onclick=\"removeItem()\">Remove from Cart</button>\n    </div>\n\n    <h2>Cart:</h2>\n    <div id=\"cart\" class=\"cart\"></div>\n\n    <script>\n        let cart = [];\n\n        // Function to add an item to the cart\n        function addItem() {\n            let item = document.getElementById(\"itemInput\").value;\n            if (item) {\n                cart.push(item);\n                document.getElementById(\"itemInput\").value = ''; // clear the input field\n                displayCart();\n            } else {\n                alert(\"Please enter an item.\");\n            }\n        }\n\n        // Function to remove an item from the cart\n        function removeItem() {\n            let item = document.getElementById(\"itemInput\").value;\n            let index = cart.indexOf(item);\n            if (index !== -1) {\n                cart.splice(index, 1);\n                document.getElementById(\"itemInput\").value = ''; // clear the input field\n                displayCart();\n            } else {\n                alert(`${item} not found in the cart.`);\n            }\n        }\n\n        // Function to display the cart items\n        function displayCart() {\n            let cartDiv = document.getElementById(\"cart\");\n            cartDiv.innerHTML = ''; // clear the previous items\n\n            if (cart.length === 0) {\n                cartDiv.innerHTML = 'Your cart is empty.';\n            } else {\n                cart.forEach(item => {\n                    let itemDiv = document.createElement('div');\n                    itemDiv.className = 'cart-item';\n                    itemDiv.textContent = `🛒 ${item}`;\n                    cartDiv.appendChild(itemDiv);\n                });\n            }\n        }\n    </script>\n\n</body>\n</html>\n\n\n",
      "text/plain": [
       "<IPython.core.display.Javascript object>"
      ]
     },
     "metadata": {},
     "output_type": "display_data"
    }
   ],
   "source": [
    "%%js \n",
    "\n",
    "<!DOCTYPE html>\n",
    "<html lang=\"en\">\n",
    "<head>\n",
    "    <meta charset=\"UTF-8\">\n",
    "    <meta name=\"viewport\" content=\"width=device-width, initial-scale=1.0\">\n",
    "    <title>Shopping Cart</title>\n",
    "    <style>\n",
    "        .cart {\n",
    "            font-size: 24px;\n",
    "        }\n",
    "        .cart-item {\n",
    "            display: inline-block;\n",
    "            margin-right: 10px;\n",
    "        }\n",
    "    </style>\n",
    "</head>\n",
    "<body>\n",
    "\n",
    "    <h1>Shopping Cart</h1>\n",
    "\n",
    "    <div>\n",
    "        <input type=\"text\" id=\"itemInput\" placeholder=\"Enter item name\">\n",
    "        <button onclick=\"addItem()\">Add to Cart</button>\n",
    "        <button onclick=\"removeItem()\">Remove from Cart</button>\n",
    "    </div>\n",
    "\n",
    "    <h2>Cart:</h2>\n",
    "    <div id=\"cart\" class=\"cart\"></div>\n",
    "\n",
    "    <script>\n",
    "        let cart = [];\n",
    "\n",
    "        // Function to add an item to the cart\n",
    "        function addItem() {\n",
    "            let item = document.getElementById(\"itemInput\").value;\n",
    "            if (item) {\n",
    "                cart.push(item);\n",
    "                document.getElementById(\"itemInput\").value = ''; // clear the input field\n",
    "                displayCart();\n",
    "            } else {\n",
    "                alert(\"Please enter an item.\");\n",
    "            }\n",
    "        }\n",
    "\n",
    "        // Function to remove an item from the cart\n",
    "        function removeItem() {\n",
    "            let item = document.getElementById(\"itemInput\").value;\n",
    "            let index = cart.indexOf(item);\n",
    "            if (index !== -1) {\n",
    "                cart.splice(index, 1);\n",
    "                document.getElementById(\"itemInput\").value = ''; // clear the input field\n",
    "                displayCart();\n",
    "            } else {\n",
    "                alert(`${item} not found in the cart.`);\n",
    "            }\n",
    "        }\n",
    "\n",
    "        // Function to display the cart items\n",
    "        function displayCart() {\n",
    "            let cartDiv = document.getElementById(\"cart\");\n",
    "            cartDiv.innerHTML = ''; // clear the previous items\n",
    "\n",
    "            if (cart.length === 0) {\n",
    "                cartDiv.innerHTML = 'Your cart is empty.';\n",
    "            } else {\n",
    "                cart.forEach(item => {\n",
    "                    let itemDiv = document.createElement('div');\n",
    "                    itemDiv.className = 'cart-item';\n",
    "                    itemDiv.textContent = `🛒 ${item}`;\n",
    "                    cartDiv.appendChild(itemDiv);\n",
    "                });\n",
    "            }\n",
    "        }\n",
    "    </script>\n",
    "\n",
    "</body>\n",
    "</html>\n",
    "\n",
    "\n"
   ]
  },
  {
   "cell_type": "markdown",
   "metadata": {},
   "source": [
    "## 3.10 Python Hacks "
   ]
  },
  {
   "cell_type": "code",
   "execution_count": 12,
   "metadata": {},
   "outputs": [
    {
     "name": "stdout",
     "output_type": "stream",
     "text": [
      "Minimum: 1, Maximum: 9\n"
     ]
    }
   ],
   "source": [
    "def find_min_max(lst):\n",
    "    if len(lst) == 0:\n",
    "        return None, None  # Handle empty list case\n",
    "\n",
    "    min_val = lst[0]\n",
    "    max_val = lst[0]\n",
    "\n",
    "    for num in lst[1:]:\n",
    "        if num < min_val:\n",
    "            min_val = num\n",
    "        if num > max_val:\n",
    "            max_val = num\n",
    "\n",
    "    return min_val, max_val\n",
    "\n",
    "# Example usage\n",
    "numbers = [3, 5, 1, 2, 9, 7]\n",
    "minimum, maximum = find_min_max(numbers)\n",
    "print(f\"Minimum: {minimum}, Maximum: {maximum}\")\n",
    "\n",
    "  \n"
   ]
  },
  {
   "cell_type": "markdown",
   "metadata": {},
   "source": [
    "## Popcorn Hack 1"
   ]
  },
  {
   "cell_type": "code",
   "execution_count": 13,
   "metadata": {},
   "outputs": [
    {
     "name": "stdout",
     "output_type": "stream",
     "text": [
      "After removing the last element: [10, 20, 30, 40]\n",
      "After removing the first element: [20, 30, 40]\n",
      "After removing an element in the middle: [20, 40]\n",
      "Final list: [20, 40]\n"
     ]
    }
   ],
   "source": [
    "# Step 1: Create a list of your choosing\n",
    "my_list = [10, 20, 30, 40, 50]\n",
    "\n",
    "# Step 2: Remove the last element or item in the list\n",
    "my_list.pop()  # Removes the last element\n",
    "print(\"After removing the last element:\", my_list)\n",
    "\n",
    "# Step 3: Remove the first element or item in the list\n",
    "my_list.pop(0)  # Removes the first element\n",
    "print(\"After removing the first element:\", my_list)\n",
    "\n",
    "# Step 4: Remove an element in the list that has a different index than the first or last element\n",
    "my_list.pop(1)  # Removing an element in the middle (index 1)\n",
    "print(\"After removing an element in the middle:\", my_list)\n",
    "\n",
    "# Step 5: Print the final list\n",
    "print(\"Final list:\", my_list)\n"
   ]
  },
  {
   "cell_type": "markdown",
   "metadata": {},
   "source": [
    "## Popcorn Hack 2"
   ]
  },
  {
   "cell_type": "code",
   "execution_count": 14,
   "metadata": {
    "vscode": {
     "languageId": "javascript"
    }
   },
   "outputs": [
    {
     "data": {
      "application/javascript": "\n// Create an array\nlet arr = [1, 2, 3, 4, 5];\n\n// Reverse the array in place\nfor (let i = 0; i < Math.floor(arr.length / 2); i++) {\n    let temp = arr[i];\n    arr[i] = arr[arr.length - 1 - i];\n    arr[arr.length - 1 - i] = temp;\n}\n\n// Print the reversed array\nconsole.log(\"Reversed array:\", arr);\n",
      "text/plain": [
       "<IPython.core.display.Javascript object>"
      ]
     },
     "metadata": {},
     "output_type": "display_data"
    }
   ],
   "source": [
    "%%js\n",
    "\n",
    "// Create an array\n",
    "let arr = [1, 2, 3, 4, 5];\n",
    "\n",
    "// Reverse the array in place\n",
    "for (let i = 0; i < Math.floor(arr.length / 2); i++) {\n",
    "    let temp = arr[i];\n",
    "    arr[i] = arr[arr.length - 1 - i];\n",
    "    arr[arr.length - 1 - i] = temp;\n",
    "}\n",
    "\n",
    "// Print the reversed array\n",
    "console.log(\"Reversed array:\", arr);\n"
   ]
  }
 ],
 "metadata": {
  "kernelspec": {
   "display_name": "venv",
   "language": "python",
   "name": "python3"
  },
  "language_info": {
   "codemirror_mode": {
    "name": "ipython",
    "version": 3
   },
   "file_extension": ".py",
   "mimetype": "text/x-python",
   "name": "python",
   "nbconvert_exporter": "python",
   "pygments_lexer": "ipython3",
   "version": "3.12.6"
  }
 },
 "nbformat": 4,
 "nbformat_minor": 2
}
