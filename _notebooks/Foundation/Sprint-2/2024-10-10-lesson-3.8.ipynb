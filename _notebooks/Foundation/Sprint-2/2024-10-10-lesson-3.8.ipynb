{
 "cells": [
  {
   "cell_type": "raw",
   "metadata": {
    "vscode": {
     "languageId": "raw"
    }
   },
   "source": [
    "---\n",
    "toc: true\n",
    "comments: true\n",
    "layout: post\n",
    "title: \"3.8 Homework\"\n",
    "type: ccc\n",
    "---"
   ]
  },
  {
   "cell_type": "markdown",
   "metadata": {},
   "source": [
    "## Homework Hack for Recursion"
   ]
  },
  {
   "cell_type": "code",
   "execution_count": 7,
   "metadata": {},
   "outputs": [
    {
     "name": "stdout",
     "output_type": "stream",
     "text": [
      "The factorial of 9 is 362880\n",
      "The factorial of 10 is 3628800\n",
      "The factorial of 11 is 39916800\n",
      "The factorial of 12 is 479001600\n",
      "The factorial of 13 is 6227020800\n"
     ]
    }
   ],
   "source": [
    "# Define a recursive function to calculate the factorial of a number\n",
    "def factorial(n):\n",
    "    # Handle non-integer and negative inputs\n",
    "    if not isinstance(n, int) or n < 0:\n",
    "        return \"Error: Input must be a non-negative integer.\"\n",
    "\n",
    "    # Base case: factorial of 0 or 1 is 1\n",
    "    if n == 0 or n == 1:\n",
    "        return 1\n",
    "    \n",
    "    # Recursive case: multiply n by the factorial of (n-1)\n",
    "    return n * factorial(n - 1)\n",
    "\n",
    "# List of numbers from 9 to 13 to calculate factorials\n",
    "numbers = range(9, 14)\n",
    "\n",
    "# Iterate through each number and calculate its factorial\n",
    "for number in numbers:\n",
    "    result = factorial(number)\n",
    "    print(f\"The factorial of {number} is {result}\")\n"
   ]
  },
  {
   "cell_type": "markdown",
   "metadata": {},
   "source": [
    "## 3.8.6 Homework "
   ]
  },
  {
   "cell_type": "code",
   "execution_count": 8,
   "metadata": {},
   "outputs": [
    {
     "name": "stdout",
     "output_type": "stream",
     "text": [
      "1\n",
      "2\n",
      "3\n",
      "4\n",
      "5\n"
     ]
    }
   ],
   "source": [
    "# Define the list of numbers\n",
    "numbers = [1, 2, 3, 4, 5]\n",
    "\n",
    "# Use a for loop to iterate through the list and print each number\n",
    "for number in numbers:\n",
    "    print(number)\n"
   ]
  },
  {
   "cell_type": "markdown",
   "metadata": {},
   "source": [
    "## 3.8.7 Homework\n",
    "\n"
   ]
  },
  {
   "cell_type": "code",
   "execution_count": 9,
   "metadata": {},
   "outputs": [
    {
     "name": "stdout",
     "output_type": "stream",
     "text": [
      "red\n",
      "blue\n",
      "green\n",
      "yellow\n",
      "apple: 3\n",
      "banana: 5\n",
      "cherry: 7\n"
     ]
    }
   ],
   "source": [
    "# Exercise 1: Iterating through a list of colors\n",
    "colors = [\"red\", \"blue\", \"green\", \"yellow\"]\n",
    "for color in colors:\n",
    "    print(color)\n",
    "\n",
    "# Exercise 2: Iterating through a dictionary of fruits and their quantities\n",
    "fruits = {\"apple\": 3, \"banana\": 5, \"cherry\": 7}\n",
    "for fruit, quantity in fruits.items():\n",
    "    print(f\"{fruit}: {quantity}\")\n"
   ]
  },
  {
   "cell_type": "markdown",
   "metadata": {},
   "source": [
    "## 3.8.8 Homework"
   ]
  },
  {
   "cell_type": "code",
   "execution_count": 10,
   "metadata": {},
   "outputs": [
    {
     "name": "stdout",
     "output_type": "stream",
     "text": [
      "1\n",
      "2\n",
      "4\n"
     ]
    }
   ],
   "source": [
    "# Given list of numbers\n",
    "numbers = [1, 2, 3, 4, 5]\n",
    "\n",
    "# Iterate through the list\n",
    "for number in numbers:\n",
    "    if number == 3:\n",
    "        continue  # Skip the number 3\n",
    "    elif number == 5:\n",
    "        break  # Stop the loop when number 5 is encountered\n",
    "    print(number)\n"
   ]
  }
 ],
 "metadata": {
  "kernelspec": {
   "display_name": "venv",
   "language": "python",
   "name": "python3"
  },
  "language_info": {
   "codemirror_mode": {
    "name": "ipython",
    "version": 3
   },
   "file_extension": ".py",
   "mimetype": "text/x-python",
   "name": "python",
   "nbconvert_exporter": "python",
   "pygments_lexer": "ipython3",
   "version": "3.12.6"
  }
 },
 "nbformat": 4,
 "nbformat_minor": 2
}
