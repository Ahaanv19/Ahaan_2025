{
 "cells": [
  {
   "cell_type": "raw",
   "metadata": {
    "vscode": {
     "languageId": "raw"
    }
   },
   "source": [
    "---\n",
    "toc: true\n",
    "comments: true\n",
    "layout: post\n",
    "title: \"Full Stack Development Blog\"\n",
    "permalink: /stack\n",
    "type: ccc\n",
    "---"
   ]
  },
  {
   "cell_type": "markdown",
   "metadata": {},
   "source": [
    "\n",
    "\n",
    "# Full-Stack Section Management Application with Flask and SQLite\n",
    "## Introduction\n",
    "Programming is a collaborative and creative process that brings ideas to life through software development. For this project, we developed an application that allows users to manage sections, which can be dynamically created, retrieved, updated, and deleted (CRUD operations).\n",
    "\n",
    "In this blog, we will:\n",
    "\n",
    "1. Discuss the purpose of the program and individual features.\n",
    "2. Demonstrate how the frontend interacts with the backend via API requests and how the database handles data.\n",
    "3. Explore lists, dictionaries, and their use in database operations.\n",
    "4. Show algorithmic code for handling requests.\n",
    "5. Detail how the API methods interact with the frontend and backend.\n"
   ]
  },
  {
   "cell_type": "markdown",
   "metadata": {},
   "source": [
    "# Purpose of the Individual Program\n",
    "My individual contribution I want to disucss focuses on reating an application to manage sections, which show genres recommended by readers. Sections can represent different genres or topics in a system, such as fiction, non fiction, or mystery. The core functionality involves:\n",
    "\n",
    "- Creating new genres.\n",
    "- Viewing all genres.\n",
    "- Editing and deleting genres.\n",
    "These features ensure efficient data management, collaboration, and dynamic content creation.\n",
    "\n",
    " It also involves the development of the Section CRUD API. This includes:\n",
    "\n",
    "- Designing RESTful API endpoints using Flask to handle CRUD operations for genres.\n",
    "- Interacting with an SQLite database to store and retrieve section data.\n",
    "- Creating a frontend that dynamically interacts with the backend to display, add, edit, and delete genres.\n",
    "\n",
    "# Purpose of the Groups Program \n",
    "Lit Connect is our group's dynamic and user-friendly platform designed to foster connections among literature enthusiasts. The website serves as a hub where readers, writers, and book lovers can interact, collaborate, and share their passion for literature.\n",
    "\n",
    "## Key Features of Lit Connect:\n",
    "\n",
    "### Community Engagement:\n",
    "\n",
    "- Connect with other users through curated book clubs and discussion groups.\n",
    "- Share thoughts and reviews about favorite books and authors.\n",
    "- Participate in interactive events like virtual book readings and literature quizzes.\n",
    "\n",
    "## Section Genre Management:\n",
    "\n",
    "- Easily organize favorite genres into thematic sections such as \"Fiction,\" \"Non-Fiction,\" Drama,\" and more.\n",
    "- Each section is dynamically managed to cater to the specific needs of the community.\n",
    "\n",
    "\n"
   ]
  },
  {
   "cell_type": "markdown",
   "metadata": {},
   "source": [
    "## Input/Output Requests\n",
    "In this section, we demonstrate how data is handled through frontend API requests and how responses are managed.\n",
    "\n",
    "## Frontend: API Request and Response\n",
    "The frontend communicates with the backend using HTTP requests. The interaction occurs via GET, POST, and DELETE methods. Below are examples of these interactions:\n",
    "\n",
    "## POST Request: Adding a Section\n",
    "The user inputs a section name and an optional theme, which is sent to the backend via a POST request."
   ]
  },
  {
   "cell_type": "code",
   "execution_count": null,
   "metadata": {
    "vscode": {
     "languageId": "javascript"
    }
   },
   "outputs": [],
   "source": [
    "function addSection() {\n",
    "    const name = document.getElementById('sectionName').value.trim();\n",
    "    const theme = document.getElementById('sectionTheme').value.trim();\n",
    "\n",
    "    if (!name) {\n",
    "        alert('Section name is required!');\n",
    "        return;\n",
    "    }\n",
    "\n",
    "    fetch('http://localhost:3000/sections', {\n",
    "        method: 'POST',\n",
    "        headers: { 'Content-Type': 'application/json' },\n",
    "        body: JSON.stringify({ name, theme }),\n",
    "    })\n",
    "    .then(response => response.json())\n",
    "    .then(() => fetchSections())  // Refresh the section list\n",
    "    .catch(error => alert('Failed to add section:', error));\n",
    "}\n",
    "\n"
   ]
  },
  {
   "cell_type": "markdown",
   "metadata": {},
   "source": [
    "The function sends a POST request with the section data to the /sections endpoint. Upon successful addition, the frontend fetches the updated list of sections.\n",
    "\n"
   ]
  },
  {
   "cell_type": "markdown",
   "metadata": {},
   "source": [
    "## GET Request: Fetching All Sections\n",
    "This request retrieves all sections stored in the database and dynamically renders them in an HTML table.\n",
    "\n"
   ]
  },
  {
   "cell_type": "code",
   "execution_count": null,
   "metadata": {
    "vscode": {
     "languageId": "javascript"
    }
   },
   "outputs": [],
   "source": [
    "function fetchSections() {\n",
    "    fetch('http://localhost:3000/sections')\n",
    "        .then(response => response.json())\n",
    "        .then(data => {\n",
    "            const tableBody = document.getElementById('sectionsTable');\n",
    "            tableBody.innerHTML = '';\n",
    "            data.forEach(section => {\n",
    "                const row = `<tr>\n",
    "                    <td>${section.id}</td>\n",
    "                    <td>${section.name}</td>\n",
    "                    <td>${section.theme || ''}</td>\n",
    "                    <td>\n",
    "                        <button class=\"button edit\" onclick=\"editSection(${section.id}, '${section.name}', '${section.theme}')\">Edit</button>\n",
    "                        <button class=\"button delete\" onclick=\"deleteSection(${section.id})\">Delete</button>\n",
    "                    </td>\n",
    "                </tr>`;\n",
    "                tableBody.innerHTML += row;\n",
    "            });\n",
    "        })\n",
    "        .catch(error => console.error('Error fetching sections:', error));\n",
    "}\n",
    "\n",
    "\n"
   ]
  },
  {
   "cell_type": "markdown",
   "metadata": {},
   "source": [
    "Explanation: The function sends a GET request to retrieve all sections and dynamically generates HTML table rows with section data."
   ]
  },
  {
   "cell_type": "markdown",
   "metadata": {},
   "source": [
    "## DELETE Request: Deleting a Section\n",
    "When the user clicks Delete, the section is removed from the database using the DELETE method.\n"
   ]
  },
  {
   "cell_type": "code",
   "execution_count": null,
   "metadata": {
    "vscode": {
     "languageId": "javascript"
    }
   },
   "outputs": [],
   "source": [
    "function deleteSection(id) {\n",
    "    if (!confirm('Are you sure you want to delete this section?')) return;\n",
    "\n",
    "    fetch(`http://localhost:3000/sections/${id}`, { method: 'DELETE' })\n",
    "        .then(response => response.json())\n",
    "        .then(() => fetchSections())  // Refresh the section list\n",
    "        .catch(error => alert('Failed to delete section:', error));\n",
    "}\n"
   ]
  },
  {
   "cell_type": "markdown",
   "metadata": {},
   "source": [
    "Explanation: A DELETE request is sent to the /sections/{id} endpoint to remove the section from the database.\n"
   ]
  },
  {
   "cell_type": "markdown",
   "metadata": {},
   "source": [
    "## Database Management\n",
    "The backend uses SQLite for data persistence. SQLAlchemy ORM is employed to interact with the database. The Section model defines the structure of the sections and provides methods for CRUD operations.\n",
    "\n",
    "### Database Initialization and Testing\n",
    "db_init: Initializes the database and creates the necessary tables."
   ]
  },
  {
   "cell_type": "code",
   "execution_count": null,
   "metadata": {},
   "outputs": [],
   "source": [
    "def init_db():\n",
    "    if not os.path.exists('./instance/volumes'):\n",
    "        os.makedirs('./instance/volumes')\n",
    "\n",
    "    conn = sqlite3.connect(DB_PATH)\n",
    "    cursor = conn.cursor()\n",
    "    cursor.execute('''\n",
    "        CREATE TABLE IF NOT EXISTS sections (\n",
    "            id INTEGER PRIMARY KEY AUTOINCREMENT,\n",
    "            _name TEXT NOT NULL UNIQUE,\n",
    "            _theme TEXT\n",
    "        )\n",
    "    ''')\n",
    "    conn.commit()\n",
    "    conn.close()\n"
   ]
  },
  {
   "cell_type": "markdown",
   "metadata": {},
   "source": [
    "Explanation: The init_db() function ensures the sections table exists in the database. If not, it creates the table.\n",
    "\n",
    "- db_restore and db_backup: Handle data creation, backup, and restoration. This ensures the database can be reset or restored from backup files."
   ]
  },
  {
   "cell_type": "code",
   "execution_count": null,
   "metadata": {},
   "outputs": [],
   "source": [
    "def db_restore(data):\n",
    "    sections = {}\n",
    "    for section_data in data:\n",
    "        _ = section_data.pop('id', None)  # Remove 'id' from section_data\n",
    "        name = section_data.get(\"name\", None)\n",
    "        section = Section.query.filter_by(_name=name).first()\n",
    "        if section:\n",
    "            section.update(section_data)\n",
    "        else:\n",
    "            section = Section(**section_data)\n",
    "            section.create()        \n",
    "    db.session.commit()\n",
    "    return sections\n"
   ]
  },
  {
   "cell_type": "markdown",
   "metadata": {},
   "source": [
    "## Working with Lists, Dictionaries, and the Database\n",
    "### Use of Lists and Dictionaries\n",
    "- Lists: We store all sections in a list. For example, when retrieving sections from the database, they are stored in a list format before being displayed on the frontend."
   ]
  },
  {
   "cell_type": "code",
   "execution_count": null,
   "metadata": {},
   "outputs": [],
   "source": [
    "sections = Section.query.all()\n",
    "sections_list = [section.read() for section in sections]\n"
   ]
  },
  {
   "cell_type": "markdown",
   "metadata": {},
   "source": [
    "- Dictionaries: The read() method in the Section class converts section data into a dictionary. This allows data to be easily converted into JSON for API responses."
   ]
  },
  {
   "cell_type": "code",
   "execution_count": null,
   "metadata": {},
   "outputs": [],
   "source": [
    "def read(self):\n",
    "    return {\n",
    "        'id': self.id,\n",
    "        'name': self._name,\n",
    "        'theme': self._theme\n",
    "    }\n"
   ]
  },
  {
   "cell_type": "markdown",
   "metadata": {},
   "source": [
    "## Algorithmic Code Request\n",
    "### API Methods for CRUD Operations\n",
    "The backend API has routes for performing the following CRUD operations:\n",
    "\n",
    "- GET: Retrieve a section by ID.\n",
    "- POST: Add a new section.\n",
    "- PUT: Update an existing section.\n",
    "- DELETE: Remove a section by ID."
   ]
  },
  {
   "cell_type": "markdown",
   "metadata": {},
   "source": [
    "### POST Method: Create Section"
   ]
  },
  {
   "cell_type": "code",
   "execution_count": null,
   "metadata": {},
   "outputs": [],
   "source": [
    "class SectionAPI(Resource):\n",
    "    def post(self):\n",
    "        data = request.get_json()\n",
    "        section = Section(name=data['name'], theme=data.get('theme'))\n",
    "        section.create()\n",
    "        return jsonify(section.read())\n"
   ]
  },
  {
   "cell_type": "markdown",
   "metadata": {},
   "source": [
    "- Parameters: The request body contains the section data (name and theme).\n",
    "- Return type: The response is a JSON object containing the created section."
   ]
  },
  {
   "cell_type": "markdown",
   "metadata": {},
   "source": [
    "### Sequencing, Selection, and Iteration\n",
    "In the update() method of the Section class, we demonstrate sequencing (updating attributes), selection (checking which attributes are provided), and iteration (iterating over sections)."
   ]
  },
  {
   "cell_type": "code",
   "execution_count": null,
   "metadata": {},
   "outputs": [],
   "source": [
    "def update(self, inputs):\n",
    "    if 'name' in inputs:\n",
    "        self._name = inputs['name']\n",
    "    if 'theme' in inputs:\n",
    "        self._theme = inputs['theme']\n",
    "    db.session.commit()\n"
   ]
  },
  {
   "cell_type": "markdown",
   "metadata": {},
   "source": [
    "- Sequencing: The update process is sequential — first, check the inputs, then update attributes accordingly.\n",
    "- Selection: The code checks if name and theme are provided before updating.\n",
    "- Iteration: The Section.query.all() method returns all sections, which are iterated to display data."
   ]
  },
  {
   "cell_type": "markdown",
   "metadata": {},
   "source": [
    "## Call to Algorithm: API Requests\n",
    "Frontend and backend communicate through API calls. The frontend sends GET, POST, and DELETE requests using fetch().\n",
    " \n",
    "### Making API Calls with fetch()\n"
   ]
  },
  {
   "cell_type": "markdown",
   "metadata": {},
   "source": [
    "GET Request: Fetch Sections"
   ]
  },
  {
   "cell_type": "code",
   "execution_count": null,
   "metadata": {
    "vscode": {
     "languageId": "javascript"
    }
   },
   "outputs": [],
   "source": [
    "fetch('http://localhost:3000/sections')\n",
    "    .then(response => response.json())\n",
    "    .then(data => {\n",
    "        console.log(data);  // Handle the data\n",
    "    })\n",
    "    .catch(error => console.error('Error:', error));\n"
   ]
  },
  {
   "cell_type": "markdown",
   "metadata": {
    "vscode": {
     "languageId": "javascript"
    }
   },
   "source": [
    "- Response Handling: The response is processed with .json(), and the data is displayed or logged."
   ]
  },
  {
   "cell_type": "markdown",
   "metadata": {
    "vscode": {
     "languageId": "javascript"
    }
   },
   "source": [
    "#### Handling Errors\n",
    "Error handling ensures that the frontend properly reacts to failed requests (e.g., if the backend is down or the data is malformed)."
   ]
  },
  {
   "cell_type": "code",
   "execution_count": null,
   "metadata": {
    "vscode": {
     "languageId": "javascript"
    }
   },
   "outputs": [],
   "source": [
    "fetch('http://localhost:3000/sections')\n",
    "    .then(response => {\n",
    "        if (!response.ok) throw new Error('Failed to fetch sections');\n",
    "        return response.json();\n",
    "    })\n",
    "    .catch(error => alert('Error:', error));\n"
   ]
  },
  {
   "cell_type": "markdown",
   "metadata": {},
   "source": [
    "## Conclusion\n",
    "This blog detailed the full-stack Section Management Application:\n",
    "\n",
    "- Frontend handles API requests and responses with JavaScript.\n",
    "- Backend implements CRUD operations using Flask and SQLAlchemy.\n",
    "- Database stores and manages sections with SQLite.\n",
    "- We demonstrated API requests using fetch(), error handling, and how the Section model handles data.\n",
    "- By integrating these elements, we’ve created a scalable, interactive application that can manage data efficiently and seamlessly."
   ]
  }
 ],
 "metadata": {
  "kernelspec": {
   "display_name": "venv",
   "language": "python",
   "name": "python3"
  },
  "language_info": {
   "codemirror_mode": {
    "name": "ipython",
    "version": 3
   },
   "file_extension": ".py",
   "mimetype": "text/x-python",
   "name": "python",
   "nbconvert_exporter": "python",
   "pygments_lexer": "ipython3",
   "version": "3.12.6"
  }
 },
 "nbformat": 4,
 "nbformat_minor": 2
}
