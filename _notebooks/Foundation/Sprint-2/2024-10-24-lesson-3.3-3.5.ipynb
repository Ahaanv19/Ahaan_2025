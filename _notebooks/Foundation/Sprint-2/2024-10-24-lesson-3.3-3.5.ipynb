{
 "cells": [
  {
   "cell_type": "raw",
   "metadata": {
    "vscode": {
     "languageId": "raw"
    }
   },
   "source": [
    "---\n",
    "toc: true\n",
    "comments: true\n",
    "layout: post\n",
    "title: \"3.3 and 3.5 Homework\"\n",
    "type: ccc\n",
    "---"
   ]
  },
  {
   "cell_type": "markdown",
   "metadata": {},
   "source": [
    "## Hack 1 For 3.3 "
   ]
  },
  {
   "cell_type": "code",
   "execution_count": 34,
   "metadata": {},
   "outputs": [
    {
     "name": "stdout",
     "output_type": "stream",
     "text": [
      "7\n",
      "7\n",
      "5.0\n",
      "1\n",
      "8\n"
     ]
    }
   ],
   "source": [
    "# Add two parameters\n",
    "def add(a, b):\n",
    "    return a + b\n",
    "\n",
    "# Subtract two parameters\n",
    "def subtract(a, b):\n",
    "    return a - b\n",
    "\n",
    "# Divide two parameters\n",
    "def divide(a, b):\n",
    "    if b != 0:\n",
    "        return a / b\n",
    "    else:\n",
    "        return \"Cannot divide by zero\"\n",
    "\n",
    "# Find the modulus of two parameters\n",
    "def modulus(a, b):\n",
    "    return a % b\n",
    "\n",
    "# Raise parameter A to the power of parameter B\n",
    "def power(a, b):\n",
    "    return a ** b\n",
    "\n",
    "\n",
    "# Testing Function\n",
    "print(add(3, 4))          # 7\n",
    "print(subtract(10, 3))    # 7\n",
    "print(divide(10, 2))      # 5.0\n",
    "print(modulus(10, 3))     # 1\n",
    "print(power(2, 3))        # 8"
   ]
  },
  {
   "cell_type": "markdown",
   "metadata": {},
   "source": [
    "## Hack 2 For 3.3 "
   ]
  },
  {
   "cell_type": "code",
   "execution_count": 35,
   "metadata": {},
   "outputs": [
    {
     "name": "stdout",
     "output_type": "stream",
     "text": [
      "7\n",
      "12\n"
     ]
    }
   ],
   "source": [
    " # Function to find a point on the graph of f(x) = 5x + 2\n",
    "def point_on_graph(x):\n",
    "    return 5 * x + 2\n",
    "\n",
    "\n",
    "# Testing Hack 2 function\n",
    "print(point_on_graph(1))  # 7 (since 5*1 + 2 = 7)\n",
    "print(point_on_graph(2))  # 12 (since 5*2 + 2 = 12)\n"
   ]
  },
  {
   "cell_type": "markdown",
   "metadata": {},
   "source": [
    "## Hack 2 For 3.5"
   ]
  },
  {
   "cell_type": "code",
   "execution_count": 36,
   "metadata": {},
   "outputs": [
    {
     "name": "stdout",
     "output_type": "stream",
     "text": [
      "Stay Inside (Expression 1): True\n",
      "Stay Inside (Expression 2): True\n"
     ]
    }
   ],
   "source": [
    "# In Python\n",
    "\n",
    "# Defining the variables\n",
    "is_raining = True\n",
    "is_cold = False\n",
    "\n",
    "# Expression 1 using De Morgan's Law\n",
    "stay_inside_1 = not is_raining or not is_cold\n",
    "\n",
    "# Expression 2 directly (already simplified by De Morgan's Law)\n",
    "stay_inside_2 = not is_raining or not is_cold\n",
    "\n",
    "# Print the results\n",
    "print(\"Stay Inside (Expression 1):\", stay_inside_1)  # Expected Output: True\n",
    "print(\"Stay Inside (Expression 2):\", stay_inside_2)  # Expected Output: True\n"
   ]
  },
  {
   "cell_type": "markdown",
   "metadata": {},
   "source": [
    "## Hack 1 For 3.5 "
   ]
  },
  {
   "cell_type": "code",
   "execution_count": 37,
   "metadata": {},
   "outputs": [
    {
     "name": "stdout",
     "output_type": "stream",
     "text": [
      "You should go outside, it's not raining and not too cold.\n"
     ]
    },
    {
     "data": {
      "text/plain": [
       "True"
      ]
     },
     "execution_count": 37,
     "metadata": {},
     "output_type": "execute_result"
    }
   ],
   "source": [
    "def goOutside(temperature, isRaining):\n",
    "    if temperature < 100 and isRaining:\n",
    "        print(\"You should go outside, it's raining but not too hot.\")\n",
    "        return True\n",
    "    elif temperature > 32 and not isRaining:\n",
    "        print(\"You should go outside, it's not raining and not too cold.\")\n",
    "        return True\n",
    "    else:\n",
    "        print(\"You shouldn't go outside due to extreme weather conditions.\")\n",
    "        return False\n",
    "\n",
    "# Example call to the function\n",
    "goOutside(50, False)  # Adjust the temperature and isRaining values as needed\n",
    "\n",
    "    "
   ]
  }
 ],
 "metadata": {
  "kernelspec": {
   "display_name": "venv",
   "language": "python",
   "name": "python3"
  },
  "language_info": {
   "codemirror_mode": {
    "name": "ipython",
    "version": 3
   },
   "file_extension": ".py",
   "mimetype": "text/x-python",
   "name": "python",
   "nbconvert_exporter": "python",
   "pygments_lexer": "ipython3",
   "version": "3.12.6"
  }
 },
 "nbformat": 4,
 "nbformat_minor": 2
}
