{
 "cells": [
  {
   "cell_type": "raw",
   "metadata": {
    "vscode": {
     "languageId": "raw"
    }
   },
   "source": [
    "---\n",
    "toc: true\n",
    "comments: false\n",
    "layout: post\n",
    "title: \"Big Idea 3.1 Lesson Plan\"\n",
    "permalink: /lesson-sprinttwo/\n",
    "type: ccc\n",
    "---"
   ]
  },
  {
   "cell_type": "markdown",
   "metadata": {
    "vscode": {
     "languageId": "raw"
    }
   },
   "source": [
    "Variables act as storage containers, which you can use to store information/code to call\n",
    "at any point in your program.\n",
    "\n",
    "For Example"
   ]
  },
  {
   "cell_type": "code",
   "execution_count": 22,
   "metadata": {},
   "outputs": [],
   "source": [
    "example = 3\n",
    "starter = \"Hello world\"\n",
    "value= \"variable\""
   ]
  },
  {
   "cell_type": "markdown",
   "metadata": {},
   "source": [
    "Then.. we can do "
   ]
  },
  {
   "cell_type": "code",
   "execution_count": 23,
   "metadata": {},
   "outputs": [
    {
     "name": "stdout",
     "output_type": "stream",
     "text": [
      "3\n",
      "3\n",
      "3\n"
     ]
    }
   ],
   "source": [
    "print(example)\n",
    "print(example)\n",
    "print(example)"
   ]
  },
  {
   "cell_type": "markdown",
   "metadata": {},
   "source": [
    "We use variables because it allows us to have more efficency when creating our code. There are many ways to excute and code a program, however we always want to find the most efficent way. Let's look at this example "
   ]
  },
  {
   "cell_type": "code",
   "execution_count": 24,
   "metadata": {},
   "outputs": [
    {
     "name": "stdout",
     "output_type": "stream",
     "text": [
      "Hello World, Welcome\n",
      "Hello World, Welcome\n",
      "Hello World, Welcome\n",
      "Hello World, Welcome\n",
      "Hello World, Welcome\n"
     ]
    }
   ],
   "source": [
    "print(\"Hello World, Welcome\")\n",
    "print(\"Hello World, Welcome\")\n",
    "print(\"Hello World, Welcome\")\n",
    "print(\"Hello World, Welcome\")\n",
    "print(\"Hello World, Welcome\")"
   ]
  },
  {
   "cell_type": "markdown",
   "metadata": {},
   "source": [
    "This is really inefficent and time consuming, also repetive instead we can make a variable assignment,.\n"
   ]
  },
  {
   "cell_type": "code",
   "execution_count": 25,
   "metadata": {},
   "outputs": [
    {
     "name": "stdout",
     "output_type": "stream",
     "text": [
      "Hello World, Welcome\n",
      "Hello World, Welcome\n",
      "Hello World, Welcome\n",
      "Hello World, Welcome\n",
      "Hello World, Welcome\n"
     ]
    }
   ],
   "source": [
    "hi= \"Hello World, Welcome\"\n",
    "\n",
    "print(hi)\n",
    "print(hi)\n",
    "print(hi)\n",
    "print(hi)\n",
    "print(hi)\n"
   ]
  },
  {
   "cell_type": "markdown",
   "metadata": {},
   "source": [
    "This is way less effort you need to put in, and also, much more efficent code than typing hello world 5 times. There is an even more  efficent way to set this code up with For Loops, but that is for a later lesson,"
   ]
  },
  {
   "cell_type": "code",
   "execution_count": 26,
   "metadata": {
    "vscode": {
     "languageId": "javascript"
    }
   },
   "outputs": [
    {
     "data": {
      "application/javascript": "\nconsole.log(\"Function Definition\");\n\n/* Function: logIt\n * Parameter: msg\n * Description: The parameter is \"msg\" is output to console, jupyter and \"output\" element in HTML\n*/\nfunction logIt(msg) {\n    console.log(msg); \n    element.append(msg);\n    document.getElementById(\"output\").textContent = msg;\n    //alert(output);\n}\n\n// sequence of code build logIt parameter using concatenation\nvar msg = \"Hello, Students!\" // replaces content of variable\n\nconsole.log(msg); // This will print \"Hello, Students!\" to the browser's console\n",
      "text/plain": [
       "<IPython.core.display.Javascript object>"
      ]
     },
     "metadata": {},
     "output_type": "display_data"
    }
   ],
   "source": [
    "%%js\n",
    "\n",
    "console.log(\"Function Definition\");\n",
    "\n",
    "/* Function: logIt\n",
    " * Parameter: msg\n",
    " * Description: The parameter is \"msg\" is output to console, jupyter and \"output\" element in HTML\n",
    "*/\n",
    "function logIt(msg) {\n",
    "    console.log(msg); \n",
    "    element.append(msg);\n",
    "    document.getElementById(\"output\").textContent = msg;\n",
    "    //alert(output);\n",
    "}\n",
    "\n",
    "// sequence of code build logIt parameter using concatenation\n",
    "var msg = \"Hello, Students!\" // replaces content of variable\n",
    "\n",
    "console.log(msg); // This will print \"Hello, Students!\" to the browser's console\n"
   ]
  },
  {
   "cell_type": "markdown",
   "metadata": {},
   "source": []
  },
  {
   "cell_type": "code",
   "execution_count": null,
   "metadata": {
    "vscode": {
     "languageId": "javascript"
    }
   },
   "outputs": [],
   "source": []
  }
 ],
 "metadata": {
  "kernelspec": {
   "display_name": "venv",
   "language": "python",
   "name": "python3"
  },
  "language_info": {
   "codemirror_mode": {
    "name": "ipython",
    "version": 3
   },
   "file_extension": ".py",
   "mimetype": "text/x-python",
   "name": "python",
   "nbconvert_exporter": "python",
   "pygments_lexer": "ipython3",
   "version": "3.12.6"
  }
 },
 "nbformat": 4,
 "nbformat_minor": 2
}
