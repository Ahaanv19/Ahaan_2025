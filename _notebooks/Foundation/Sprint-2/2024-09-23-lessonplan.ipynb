{
 "cells": [
  {
   "cell_type": "raw",
   "metadata": {
    "vscode": {
     "languageId": "raw"
    }
   },
   "source": [
    "---\n",
    "toc: true\n",
    "comments: false\n",
    "layout: post\n",
    "title: \"Big Idea 3.1 Lesson Plan\"\n",
    "permalink: /lesson-sprinttwo/\n",
    "type: ccc\n",
    "---"
   ]
  },
  {
   "cell_type": "markdown",
   "metadata": {
    "vscode": {
     "languageId": "raw"
    }
   },
   "source": [
    "# Variables \n",
    "\n",
    "Variables act as a storage containers, which you can use to store information/code to call\n",
    "at any point in your program.\n",
    "\n",
    "For Example \n",
    "\n"
   ]
  },
  {
   "cell_type": "code",
   "execution_count": 55,
   "metadata": {},
   "outputs": [],
   "source": [
    "example = 3\n",
    "starter = \"Hello world\"\n",
    "value= \"variable\""
   ]
  },
  {
   "cell_type": "markdown",
   "metadata": {},
   "source": [
    "Then.. we can do "
   ]
  },
  {
   "cell_type": "code",
   "execution_count": 56,
   "metadata": {},
   "outputs": [
    {
     "name": "stdout",
     "output_type": "stream",
     "text": [
      "Hello world\n",
      "3\n",
      "variable\n"
     ]
    }
   ],
   "source": [
    "print(starter)\n",
    "print(example)\n",
    "print(value)"
   ]
  },
  {
   "cell_type": "markdown",
   "metadata": {},
   "source": [
    "We use variables because it allows us to have more efficency when creating our code. There are many ways to excute and code a program, however we always want to find the most efficent way. Let's look at this example "
   ]
  },
  {
   "cell_type": "code",
   "execution_count": 57,
   "metadata": {},
   "outputs": [
    {
     "name": "stdout",
     "output_type": "stream",
     "text": [
      "Hello World, Welcome\n",
      "Hello World, Welcome\n",
      "Hello World, Welcome\n",
      "Hello World, Welcome\n",
      "Hello World, Welcome\n"
     ]
    }
   ],
   "source": [
    "print(\"Hello World, Welcome\")\n",
    "print(\"Hello World, Welcome\")\n",
    "print(\"Hello World, Welcome\")\n",
    "print(\"Hello World, Welcome\")\n",
    "print(\"Hello World, Welcome\")"
   ]
  },
  {
   "cell_type": "markdown",
   "metadata": {},
   "source": [
    "This is really inefficent and time consuming, also repetive instead we can make a variable assignment,.\n"
   ]
  },
  {
   "cell_type": "code",
   "execution_count": 58,
   "metadata": {},
   "outputs": [
    {
     "name": "stdout",
     "output_type": "stream",
     "text": [
      "Hello World, Welcome\n",
      "Hello World, Welcome\n",
      "Hello World, Welcome\n",
      "Hello World, Welcome\n",
      "Hello World, Welcome\n"
     ]
    }
   ],
   "source": [
    "hi= \"Hello World, Welcome\"\n",
    "\n",
    "print(hi)\n",
    "print(hi)\n",
    "print(hi)\n",
    "print(hi)\n",
    "print(hi)\n"
   ]
  },
  {
   "cell_type": "markdown",
   "metadata": {},
   "source": [
    "This is way less effort you need to put in, and also, much more efficent code than typing hello world 5 times. There is an even more  efficent way to set this code up with For Loops, but that is for a later lesson,"
   ]
  },
  {
   "cell_type": "markdown",
   "metadata": {},
   "source": []
  },
  {
   "cell_type": "markdown",
   "metadata": {},
   "source": [
    "## Variable Naming:\n",
    "\n",
    "There are 3 Important Coding Practices to follow when it comes to naming variables\n",
    "\n",
    "### SnakeCase\n",
    "\n",
    "SnakeCase is where you replace spaces in the words in a variable names to an underscore. This is the standard naming convention for variables in Python.\n",
    "\n",
    "### PascalCase\n",
    "\n",
    "PascalCase is where you capitialize every word in your variable, but keep it all as one singluar phrase with no spaces. Altough this is shown in example, it should not be used for varialbes in Python. This is reserved for class names.\n",
    "\n",
    "### CamelCase\n",
    "\n",
    "CamelCase is where you captalize the second and subsequent words in the variable name. This is not normally used in Python conventions.\n",
    "\n",
    "\n",
    "\n"
   ]
  },
  {
   "cell_type": "code",
   "execution_count": null,
   "metadata": {
    "vscode": {
     "languageId": "javascript"
    }
   },
   "outputs": [],
   "source": []
  },
  {
   "cell_type": "markdown",
   "metadata": {},
   "source": [
    "### Popcorn Hack # 1 25%\n",
    " \n",
    " Try making your own PascalCase variable and set the variable to a string."
   ]
  },
  {
   "cell_type": "markdown",
   "metadata": {},
   "source": [
    "### Popcorn Hack # 2 25%\n",
    "\n",
    "Now try making your own CamelCase variable and set the variable equal to a integer.\n",
    "\n"
   ]
  },
  {
   "cell_type": "code",
   "execution_count": null,
   "metadata": {},
   "outputs": [],
   "source": []
  },
  {
   "cell_type": "markdown",
   "metadata": {},
   "source": [
    "## Variable Types\n",
    "\n",
    "In Python there are many variables\n",
    "Some include...\n",
    "\n",
    "### Integers\n",
    "Integers are numerical values such as 1, 2, 3, 4 or -1. There are no decimals in an integer. \n",
    "'''\n",
    "\n",
    "# These values must be whole digit numbers"
   ]
  },
  {
   "cell_type": "code",
   "execution_count": 59,
   "metadata": {},
   "outputs": [],
   "source": [
    "int_var = 10"
   ]
  },
  {
   "cell_type": "markdown",
   "metadata": {},
   "source": [
    "### Strings\n",
    "Strings are a chain of text, numbers or charcters, all inside of “ “\n",
    "'''\n",
    "# Numbers can be set as strings but must also be included in \" \" or using the str() function."
   ]
  },
  {
   "cell_type": "code",
   "execution_count": 64,
   "metadata": {},
   "outputs": [
    {
     "data": {
      "text/plain": [
       "'1,0,4'"
      ]
     },
     "execution_count": 64,
     "metadata": {},
     "output_type": "execute_result"
    }
   ],
   "source": [
    "# Numbers can be set as strings but must also be included in \" \" or using the str() function.\n",
    "str_var = \"Hello World\"\n",
    "\n",
    "# Convert any value into a string using the str() function\n",
    "int_var = 104\n",
    "str_var = str(int_var) # Converted 104 to \"104\"\n",
    "\n",
    "# You can access different parts of the string using brackets\n",
    "letter_one = str_var[0]\n",
    "\n",
    "# You can also get groups of letters using brackets\n",
    "half = str_var[0:5]\n",
    "\n",
    "# To split the string into parts you can choose which parts to split at and then it will convert into a list\n",
    "str_var.split(\" \") # Split at space making str_var = [\"Hello\",\"World\"]\n",
    "\n",
    "# To rejoin split strings, use the join() function\n",
    "rejoin_str = \",\"\n",
    "rejoin_str.join(str_var) # the join() function joins a list using a rejoin string, in this example a commmad"
   ]
  },
  {
   "cell_type": "markdown",
   "metadata": {},
   "source": [
    "\n",
    "## Boolean\n",
    "Booleans are True or False, they are used for condtional statements (Usually in if statments or while loops).\n",
    "'''\n",
    "# These can be exteremely usesful in if statements."
   ]
  },
  {
   "cell_type": "code",
   "execution_count": null,
   "metadata": {},
   "outputs": [],
   "source": [
    "bool_var = True \n",
    "\n",
    "if bool_var:\n",
    "    int_var = 10\n",
    "else:\n",
    "    str_var = \"Hello World\""
   ]
  },
  {
   "cell_type": "markdown",
   "metadata": {},
   "source": [
    "\n",
    "### Float\n",
    "Floats are numbers that can include decimals.\n",
    "```\n",
    "# Floats can be whole numbers to but must include a .0 after the whole number to be a float number.\n",
    "float_var = 0.5\n",
    "```"
   ]
  },
  {
   "cell_type": "markdown",
   "metadata": {},
   "source": [
    "\n",
    "### Lists\n",
    "Lists are ordered collections of items in Python. They can contain a mix of different data types, including integers, floats, strings, and more. However, it is more common to have list contain the same data type.\n",
    "```"
   ]
  },
  {
   "cell_type": "code",
   "execution_count": null,
   "metadata": {},
   "outputs": [],
   "source": [
    "# Lists are very useful to store data for a later use, its like a bunch of variables compacted into one.\n",
    "lst = [\"s\", \"i\", \"g\", \"m\", \"a\"]\n",
    "\n",
    "# To retrieve something from a list, you take the index or the list number like this.\n",
    "lst[0]\n",
    "\n",
    "lst[0:3] # You can grab values from one index to another like in strings\n",
    "\n",
    "# Index can also be found with the list.index() function\n",
    "lst.index(\"g\")\n",
    "\n",
    "# To add a value to the list, you can use the list.append() function\n",
    "lst.append(\"69\")\n",
    "\n",
    "Output: lst = [\"s\", \"i\", \"g\", \"m\", \"a\", 69] # Lists can include different kinds of values (int, str, bool, float, list)\n",
    "\n",
    "# To remove a value from the list, you can use the list.remove() function\n",
    "lst.remove(\"s\")\n",
    "\n",
    "Output: lst = [ \"i\", \"g\", \"m\", \"a\", 69]"
   ]
  },
  {
   "cell_type": "code",
   "execution_count": null,
   "metadata": {},
   "outputs": [],
   "source": []
  },
  {
   "cell_type": "markdown",
   "metadata": {},
   "source": [
    "### Popcorn Hack # 3 25%\n",
    "\n",
    "Try making your own set of 3 variable variables.\n",
    "\n",
    "It can be anything. Use your creativity!\n",
    "\n",
    "Try a String or a Float"
   ]
  },
  {
   "cell_type": "markdown",
   "metadata": {},
   "source": [
    "This an example of variables in Javascript. "
   ]
  },
  {
   "cell_type": "code",
   "execution_count": null,
   "metadata": {
    "vscode": {
     "languageId": "javascript"
    }
   },
   "outputs": [
    {
     "data": {
      "application/javascript": "\nconsole.log(\"Function Definition\");\n\n/* Function: logIt\n * Parameter: msg\n * Description: The parameter is \"msg\" is output to console, jupyter and \"output\" element in HTML\n*/\nfunction logIt(msg) {\n    console.log(msg); \n    element.append(msg);\n    document.getElementById(\"output\").textContent = msg;\n    //alert(output);\n}\n\n// sequence of code build logIt parameter using concatenation\nvar msg = \"Hello, Students!\" // replaces content of variable\n\nconsole.log(msg); // This will print \"Hello, Students!\" to the browser's console\n",
      "text/plain": [
       "<IPython.core.display.Javascript object>"
      ]
     },
     "metadata": {},
     "output_type": "display_data"
    }
   ],
   "source": [
    "%%js\n",
    "\n",
    "\n",
    "console.log(\"Function Definition\");\n",
    "\n",
    "// Function: logIt\n",
    "// Parameter: msg\n",
    "// Description: The parameter is \"msg\" is output to console, jupyter and \"output\" element in HTML\n",
    "\n",
    "function logIt(input) {\n",
    "    console.log(input); \n",
    "    element.append(input);\n",
    "    document.getElementById(\"output\").textContent = input;\n",
    "};\n",
    "\n",
    "// Using function to add message to console log\n",
    "logIt(msg);\n",
    "\n",
    "// sequence of code build logIt parameter using concatenation\n",
    "var msg = \"Hello, Students!\"; // replaces content of variable\n",
    "\n",
    "logIt(msg); // This will print \"Hello, Students!\" to the browser's console\n",
    "\n",
    "\n"
   ]
  },
  {
   "cell_type": "markdown",
   "metadata": {},
   "source": [
    "## Hacks\n",
    "Review each of the sections above and produce a python program that stores:\n",
    "\n",
    "- Name as a string\n",
    "- Age as a integer\n",
    "- Favorite food as a string\n",
    "- Mix the name, age, food into a List and a Dictionary\n",
    "- Be sure to follow Snake case convention for your variables\n",
    "- Build your own code cell(s) that define each variable types\n",
    "- Experiment with the + operator on string types, integer types, and float types. What operations can the + operator perform?\n",
    "- Provide comments and outputs in the cell that are easy to follow\n"
   ]
  },
  {
   "cell_type": "markdown",
   "metadata": {},
   "source": []
  },
  {
   "cell_type": "code",
   "execution_count": null,
   "metadata": {},
   "outputs": [
    {
     "name": "stdout",
     "output_type": "stream",
     "text": [
      "Hi I am 15 years old\n",
      "Congrats for Learning 3.1\n"
     ]
    }
   ],
   "source": [
    "### Store as a Dictionary\n",
    "\n",
    "my_dict = {\n",
    "    \"name\": \"Ahaan\",\n",
    "    \"age\": 15,\n",
    "    \"Favorite Food\": \"Pizza\"\n",
    "    \"status\": \"Not as cool as spencer\"\n",
    "}\n",
    "\n",
    "### Store as regular variables which can be called at any time\n",
    "\n",
    "favorite_food = \"Pizza\"\n",
    "my_name = \"Ahaan Vaidyanathan\"\n",
    "my_age = 15\n",
    "status = \"Not as cool as spencer\"\n",
    "\n",
    "### Store as a List\n",
    "\n",
    "my_list = [\"Ahaan\", 15, \"Pizza\"]\n",
    "\n",
    " "
   ]
  },
  {
   "cell_type": "markdown",
   "metadata": {},
   "source": [
    "## Experimenting with the + operator on string types, integer types, and float types. \n",
    "\n",
    "There are multiple examples, here for this example. Remember, we have to use the str conversion when combining a interger or float with a string. You can also use commas to add a space and combine text.\n",
    "\n",
    "Here is both examples:\n",
    "```\n",
    "print(\"Hi\" + \" \"+ \"I am\"+ \" \"+str(15)+ \" \"+ \"years old\")\n",
    "print(\"Congrats for Learning 3.1\")\n",
    "\n",
    "# With commas\n",
    "print(\"Hi\", \"how\", \"are\", \"you\" + \"?\") # Can be useful when printing out separate strings without combining them.\n",
    "\n",
    "# Or even better\n",
    "code = \"code \"\n",
    "print(code * 3) # The asterisk can be used to print a variable multiple times\n",
    "```\n",
    "\n",
    "Be creative\n"
   ]
  },
  {
   "cell_type": "markdown",
   "metadata": {},
   "source": [
    "# Homework Problems on Variables\n",
    "\n",
    "## ---\n",
    "\n",
    "## Question 1: Variable Naming Conventions (SnakeCase, PascalCase, CamelCase)\n",
    "\n",
    "Assign a value to a variable using the proper naming conventions.\n",
    "\n",
    "### Part A: Create a variable using snake case called my_favorite_color and set its value to \"blue\".\n",
    "```\n",
    "my_favorite_color = \"blue\"\n",
    "```\n",
    "### Part B: Now, create a variable using PascalCase called MyFavoriteColor and set its value to \"green\".\n",
    "```\n",
    "MyFavoriteColor = \"green\"\n",
    "```\n",
    "### Part C: Finally, create a variable using CamelCase called myFavoriteColor and set its value to \"red\".\n",
    "```\n",
    "myFavoriteColor = \"red\"\n",
    "```\n",
    "\n",
    "### Part D: Explain why the PascalCase variable name should not be used in Python for regular variables.\n",
    "\n",
    "PascalCase is reserved for class names in Python, not regular variables, which should use SnakeCase.\n",
    "\n",
    "## ---\n",
    "\n",
    "## Question 2: Types of Variables\n",
    "\n",
    "### Part A: Assign the following values to variables:\n",
    "```\n",
    "# 1. An integer my_age with the value 21.\n",
    "my_age = 21\n",
    "\n",
    "# 2. A float pi_value with the value 3.14159.\n",
    "pi_value = 3.14159\n",
    "\n",
    "# 3. A boolean is_student with the value True.\n",
    "is_student = True\n",
    "\n",
    "# 4. A string greeting_message with the value \"Hello, World!\".\n",
    "greeting_message = \"Hello, World!\"\n",
    "```\n",
    "### Part B: Print each of these variables to see the output.\n",
    "```\n",
    "# Integer Value\n",
    "print(my_age)\n",
    "\n",
    "# Float Value\n",
    "print(pi_value)\n",
    "\n",
    "# Boolean Value\n",
    "print(is_student)\n",
    "\n",
    "# String value\n",
    "print(greeting_message)\n",
    "```\n",
    "\n",
    "## ---\n",
    "\n",
    "## Question 3: How Variables Work\n",
    "\n",
    "### Part A: Assign the string \"Python Programming\" to a variable called course_name.\n",
    "```\n",
    "course_name = \"Python Programming\"\n",
    "```\n",
    "Then, print the following sentence using this variable:\n",
    "```\n",
    "print(\"I am learning \" + course_name)\n",
    "```\n",
    "### Part B: Assign the integer 10 to a variable called num_items (more commonly shortened to just \"n\").\n",
    "```\n",
    "num_items = 10\n",
    "```\n",
    "Then, print a sentence using this variable:\n",
    "```\n",
    "# Remember to use str() to convert the integer to a string when printing.\n",
    "print(\"You have \" + str(num_items) + \" items in your cart.\")\n",
    "```\n",
    "\n",
    "### Part C: Why do we need to use the str() function when printing the num_items variable in Part B?\n",
    "\n",
    "Explanation: We need to use str() because Python cannot concatenate strings with integers directly. The str() function converts the integer into a string, allowing us to print it alongside other strings."
   ]
  }
 ],
 "metadata": {
  "kernelspec": {
   "display_name": "venv",
   "language": "python",
   "name": "python3"
  },
  "language_info": {
   "codemirror_mode": {
    "name": "ipython",
    "version": 3
   },
   "file_extension": ".py",
   "mimetype": "text/x-python",
   "name": "python",
   "nbconvert_exporter": "python",
   "pygments_lexer": "ipython3",
   "version": "3.12.6"
  }
 },
 "nbformat": 4,
 "nbformat_minor": 2
}
