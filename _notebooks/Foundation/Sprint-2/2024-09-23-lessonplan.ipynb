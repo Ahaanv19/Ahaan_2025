{
 "cells": [
  {
   "cell_type": "raw",
   "metadata": {
    "vscode": {
     "languageId": "raw"
    }
   },
   "source": [
    "---\n",
    "toc: true\n",
    "comments: false\n",
    "layout: post\n",
    "title: \"Big Idea 3.1 Lesson Plan\"\n",
    "permalink: /lesson-sprinttwo/\n",
    "type: ccc\n",
    "---"
   ]
  },
  {
   "cell_type": "markdown",
   "metadata": {
    "vscode": {
     "languageId": "raw"
    }
   },
   "source": [
    "# Variables \n",
    "\n",
    "Variables act as a type of storage containers, which you can use to store information/code to call\n",
    "at any point in your program.\n",
    "\n",
    "For Example \n",
    "\n"
   ]
  },
  {
   "cell_type": "code",
   "execution_count": 19,
   "metadata": {},
   "outputs": [],
   "source": [
    "example = 3\n",
    "starter = \"Hello world\"\n",
    "value= \"variable\""
   ]
  },
  {
   "cell_type": "markdown",
   "metadata": {},
   "source": [
    "Then.. we can do "
   ]
  },
  {
   "cell_type": "code",
   "execution_count": 20,
   "metadata": {},
   "outputs": [
    {
     "name": "stdout",
     "output_type": "stream",
     "text": [
      "3\n",
      "3\n",
      "3\n"
     ]
    }
   ],
   "source": [
    "print(example)\n",
    "print(example)\n",
    "print(example)"
   ]
  },
  {
   "cell_type": "markdown",
   "metadata": {},
   "source": [
    "We use variables because it allows us to have more efficency when creating our code. There are many ways to excute and code a program, however we always want to find the most efficent way. Let's look at this example "
   ]
  },
  {
   "cell_type": "code",
   "execution_count": 21,
   "metadata": {},
   "outputs": [
    {
     "name": "stdout",
     "output_type": "stream",
     "text": [
      "Hello World, Welcome\n",
      "Hello World, Welcome\n",
      "Hello World, Welcome\n",
      "Hello World, Welcome\n",
      "Hello World, Welcome\n"
     ]
    }
   ],
   "source": [
    "print(\"Hello World, Welcome\")\n",
    "print(\"Hello World, Welcome\")\n",
    "print(\"Hello World, Welcome\")\n",
    "print(\"Hello World, Welcome\")\n",
    "print(\"Hello World, Welcome\")"
   ]
  },
  {
   "cell_type": "markdown",
   "metadata": {},
   "source": [
    "This is really inefficent and time consuming, also repetive instead we can make a variable assignment,.\n"
   ]
  },
  {
   "cell_type": "code",
   "execution_count": 22,
   "metadata": {},
   "outputs": [
    {
     "name": "stdout",
     "output_type": "stream",
     "text": [
      "Hello World, Welcome\n",
      "Hello World, Welcome\n",
      "Hello World, Welcome\n",
      "Hello World, Welcome\n",
      "Hello World, Welcome\n"
     ]
    }
   ],
   "source": [
    "hi= \"Hello World, Welcome\"\n",
    "\n",
    "print(hi)\n",
    "print(hi)\n",
    "print(hi)\n",
    "print(hi)\n",
    "print(hi)\n"
   ]
  },
  {
   "cell_type": "markdown",
   "metadata": {},
   "source": [
    "This is way less effort you need to put in, and also, much more efficent code than typing hello world 5 times. There is an even more  efficent way to set this code up with For Loops, but that is for a later lesson,"
   ]
  },
  {
   "cell_type": "markdown",
   "metadata": {},
   "source": []
  },
  {
   "cell_type": "markdown",
   "metadata": {},
   "source": [
    "Variable Naming:\n",
    "\n",
    "There are 3 Important Coding Practices to follow when it comes to naming variables\n",
    "\n",
    "SnakeCase\n",
    "\n",
    "SnakeCase is where you replace spaces in the words in a variable names to an underscore. This is the standard naming convention for variables in Python.\n",
    "\n",
    "PascalCase\n",
    "\n",
    "PascalCase is where you capitialize every word in your variable, but keep it all as one singluar phrase with no spaces. Altough this is shown in example, it should not be used for varialbes in Python. This is reserved for class names.\n",
    "\n",
    "CamelCase\n",
    "CamelCase is where you captalize the second and subsequent words in the variable name. This is not normally used in Python conventions.\n",
    "\n",
    "\n",
    "\n"
   ]
  },
  {
   "cell_type": "code",
   "execution_count": null,
   "metadata": {
    "vscode": {
     "languageId": "javascript"
    }
   },
   "outputs": [],
   "source": []
  },
  {
   "cell_type": "markdown",
   "metadata": {},
   "source": [
    "Popcorn Hack # 1 25%\n",
    " \n",
    " Try making your own PascalCase variable"
   ]
  },
  {
   "cell_type": "markdown",
   "metadata": {},
   "source": [
    "Popcorn Hack # 2 25%\n",
    "\n",
    "Now try making your own CamelCase variable and set the variable equal to a integer.\n",
    "\n"
   ]
  },
  {
   "cell_type": "code",
   "execution_count": null,
   "metadata": {
    "vscode": {
     "languageId": "javascript"
    }
   },
   "outputs": [],
   "source": []
  },
  {
   "cell_type": "code",
   "execution_count": null,
   "metadata": {},
   "outputs": [],
   "source": []
  },
  {
   "cell_type": "markdown",
   "metadata": {},
   "source": [
    "Variable Types\n",
    "\n",
    "In Python there are many variables\n",
    "Some include...\n",
    "\n",
    "Integers\n",
    "Integers are numerical values such as 1, 2, 3, 4 or -1. There are no decimals in an integer. \n",
    "\n",
    "Strings\n",
    "Strings are a chain of text, numbers or charcters, all inside of “ “\n",
    "\n",
    "Boolean\n",
    "Booleans are True or False, they are used for condtional statements\n",
    "\n",
    "Float\n",
    "Float are numbers that can include decimals.\n",
    "\n",
    "Lists\n",
    "Lists are ordered collections of items in Python. They can contain a mix of different data types, including integers, floats, strings, and more. However, it is more common to have list contain the same data type.\n",
    "\n"
   ]
  },
  {
   "cell_type": "code",
   "execution_count": null,
   "metadata": {},
   "outputs": [],
   "source": []
  },
  {
   "cell_type": "markdown",
   "metadata": {},
   "source": [
    "Popcorn Hack # 3 25%\n",
    "\n",
    "Try making your own set of 3 variable variables.\n",
    "\n",
    "It can be anything. Use your creativity!\n",
    "\n",
    "Try a String or a Float"
   ]
  },
  {
   "cell_type": "markdown",
   "metadata": {},
   "source": [
    "This an example of variables in Javascript. "
   ]
  },
  {
   "cell_type": "code",
   "execution_count": 23,
   "metadata": {
    "vscode": {
     "languageId": "javascript"
    }
   },
   "outputs": [
    {
     "data": {
      "application/javascript": "\nconsole.log(\"Function Definition\");\n\n/* Function: logIt\n * Parameter: msg\n * Description: The parameter is \"msg\" is output to console, jupyter and \"output\" element in HTML\n*/\nfunction logIt(msg) {\n    console.log(msg); \n    element.append(msg);\n    document.getElementById(\"output\").textContent = msg;\n    //alert(output);\n}\n\n// sequence of code build logIt parameter using concatenation\nvar msg = \"Hello, Students!\" // replaces content of variable\n\nconsole.log(msg); // This will print \"Hello, Students!\" to the browser's console\n",
      "text/plain": [
       "<IPython.core.display.Javascript object>"
      ]
     },
     "metadata": {},
     "output_type": "display_data"
    }
   ],
   "source": [
    "%%js\n",
    "\n",
    "console.log(\"Function Definition\");\n",
    "\n",
    "/* Function: logIt\n",
    " * Parameter: msg\n",
    " * Description: The parameter is \"msg\" is output to console, jupyter and \"output\" element in HTML\n",
    "*/\n",
    "function logIt(msg) {\n",
    "    console.log(msg); \n",
    "    element.append(msg);\n",
    "    document.getElementById(\"output\").textContent = msg;\n",
    "    //alert(output);\n",
    "}\n",
    "\n",
    "// sequence of code build logIt parameter using concatenation\n",
    "var msg = \"Hello, Students!\" // replaces content of variable\n",
    "\n",
    "console.log(msg); // This will print \"Hello, Students!\" to the browser's console\n"
   ]
  },
  {
   "cell_type": "markdown",
   "metadata": {},
   "source": [
    "Hacks\n",
    "Review each of the sections above and produce a python program that stores:\n",
    "\n",
    "Name as a string\n",
    "Age as a integer\n",
    "Favorite food as a string\n",
    "Mix the name, age, food into a List and a Dictionary\n",
    "Be sure to follow Snake case convention for your variables\n",
    "Build your own code cell(s) that define each variable types\n",
    "Experiment with the + operator on string types, integer types, and float types. What operations can the + operator perform?\n",
    "Provide comments and outputs in the cell that are easy to follow"
   ]
  },
  {
   "cell_type": "markdown",
   "metadata": {},
   "source": []
  },
  {
   "cell_type": "code",
   "execution_count": 24,
   "metadata": {},
   "outputs": [
    {
     "name": "stdout",
     "output_type": "stream",
     "text": [
      "Hi I am 15 years old\n",
      "Congrats for Learning 3.1\n"
     ]
    }
   ],
   "source": [
    "# Store as a Dictionary \n",
    "my_dict = {\n",
    "    \"name\": \"Ahaan\",\n",
    "    \"age\": 15,\n",
    "    \"Favorite Food\": \"Pizza\"\n",
    "}\n",
    "# Store as regular variables which can be called at any time\n",
    "favorite_food = \"Pizza\"\n",
    "my_name = \"Ahaan Vaidyanathan\"\n",
    "my_age = 15\n",
    "\n",
    "# Store as a List\n",
    "my_list = [\"Ahaan\", 15, \"Pizza\"]\n",
    "\n",
    "\n",
    "# Experimenting with the + operator on string types, integer types, and float types. \n",
    "# There are multiple examples, here for this example. Remember, we have to use the str conversion when combining a interger or float with a string\n",
    "# Be creative \n",
    "print(\"Hi\" + \" \"+ \"I am\"+ \" \"+str(15)+ \" \"+ \"years old\")\n",
    "print(\"Congrats for Learning 3.1\")"
   ]
  },
  {
   "cell_type": "markdown",
   "metadata": {},
   "source": [
    "# Homework Problems on Variables\n",
    "# ---\n",
    "# Question 1: Variable Naming (SnakeCase, PascalCase, CamelCase)\n",
    "# You need to assign a value to a variable using the proper naming conventions.\n",
    "\n",
    "\n",
    "\n"
   ]
  },
  {
   "cell_type": "code",
   "execution_count": 25,
   "metadata": {},
   "outputs": [],
   "source": [
    "# Part A: Create a variable called my_favorite_color (using SnakeCase) and set its value to \"blue\".\n",
    "my_favorite_color = \"blue\""
   ]
  },
  {
   "cell_type": "code",
   "execution_count": 26,
   "metadata": {},
   "outputs": [],
   "source": [
    "# Part B: Now, create a variable called MyFavoriteColor (using PascalCase) and set its value to \"green\".\n",
    "MyFavoriteColor = \"green\""
   ]
  },
  {
   "cell_type": "code",
   "execution_count": 27,
   "metadata": {},
   "outputs": [],
   "source": [
    "# Part C: Explain why the PascalCase variable name should not be used in Python for regular variables.\n",
    "# PascalCase is reserved for class names in Python, not regular variables, which should use SnakeCase.\n",
    "# ---"
   ]
  },
  {
   "cell_type": "markdown",
   "metadata": {},
   "source": [
    "# Question 2: Types of Variables\n",
    "# Part A: Assign the following values to variables:"
   ]
  },
  {
   "cell_type": "code",
   "execution_count": 28,
   "metadata": {},
   "outputs": [],
   "source": [
    "# 1. An integer my_age with the value 21.\n",
    "my_age = 21\n",
    "# 2. A float pi_value with the value 3.14159.\n",
    "pi_value = 3.14159\n",
    "# 3. A boolean is_student with the value True.\n",
    "is_student = True\n",
    "# 4. A string greeting_message with the value \"Hello, World!\".\n",
    "greeting_message = \"Hello, World!\""
   ]
  },
  {
   "cell_type": "code",
   "execution_count": 29,
   "metadata": {},
   "outputs": [
    {
     "name": "stdout",
     "output_type": "stream",
     "text": [
      "21\n",
      "3.14159\n",
      "True\n",
      "Hello, World!\n"
     ]
    }
   ],
   "source": [
    "# Part B: Print each of these variables to see the output.\n",
    "print(my_age)\n",
    "print(pi_value)\n",
    "print(is_student)\n",
    "print(greeting_message)"
   ]
  },
  {
   "cell_type": "markdown",
   "metadata": {},
   "source": [
    "# Question 3: How Variables Work"
   ]
  },
  {
   "cell_type": "code",
   "execution_count": 30,
   "metadata": {},
   "outputs": [
    {
     "name": "stdout",
     "output_type": "stream",
     "text": [
      "I am learning Python Programming\n",
      "You have 10 items in your cart.\n"
     ]
    }
   ],
   "source": [
    "# Question 3: How Variables Work\n",
    "# Part A: Assign the string \"Python Programming\" to a variable called course_name.\n",
    "course_name = \"Python Programming\"\n",
    "# Then, print the following sentence using this variable:\n",
    "print(\"I am learning \" + course_name)\n",
    "# Part B: Assign the integer 10 to a variable called num_items.\n",
    "num_items = 10\n",
    "# Then, print a sentence using this variable:\n",
    "# Remember to use str() to convert the integer to a string when printing.\n",
    "print(\"You have \" + str(num_items) + \" items in your cart.\")\n",
    "# Part C: Why do we need to use the str() function when printing the num_items variable in Part B?\n",
    "# Explanation: We need to use str() because Python cannot concatenate strings with integers directly.\n",
    "# The str() function converts the integer into a string, allowing us to print it alongside other strings."
   ]
  }
 ],
 "metadata": {
  "kernelspec": {
   "display_name": "venv",
   "language": "python",
   "name": "python3"
  },
  "language_info": {
   "codemirror_mode": {
    "name": "ipython",
    "version": 3
   },
   "file_extension": ".py",
   "mimetype": "text/x-python",
   "name": "python",
   "nbconvert_exporter": "python",
   "pygments_lexer": "ipython3",
   "version": "3.12.6"
  }
 },
 "nbformat": 4,
 "nbformat_minor": 2
}
