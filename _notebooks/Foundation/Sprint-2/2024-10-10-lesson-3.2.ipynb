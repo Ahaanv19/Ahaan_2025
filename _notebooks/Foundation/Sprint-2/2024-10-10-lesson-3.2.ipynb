{
 "cells": [
  {
   "cell_type": "raw",
   "metadata": {
    "vscode": {
     "languageId": "raw"
    }
   },
   "source": [
    "---\n",
    "toc: true\n",
    "comments: true\n",
    "layout: post\n",
    "title: \"3.2 Homework\"\n",
    "type: ccc\n",
    "---"
   ]
  },
  {
   "cell_type": "markdown",
   "metadata": {},
   "source": [
    "## Homework 3.2"
   ]
  },
  {
   "cell_type": "code",
   "execution_count": 6,
   "metadata": {},
   "outputs": [
    {
     "name": "stdout",
     "output_type": "stream",
     "text": [
      "Initial dictionary: {'name': 'John', 'age': 25, 'city': 'New York'}\n",
      "Updated dictionary: {'name': 'Alice', 'age': 31}\n"
     ]
    }
   ],
   "source": [
    "# Task 1: Create a dictionary with at least 3 keys and print it\n",
    "# Explanation: This dictionary represents a person with a name, age, and city of residence.\n",
    "my_dict = {\n",
    "    \"name\": \"John\",          # The person's name\n",
    "    \"age\": 25,               # The person's age\n",
    "    \"city\": \"New York\"       # The person's city\n",
    "}\n",
    "print(\"Initial dictionary:\", my_dict)  # Printing the dictionary to see its contents\n",
    "\n",
    "# Task 2: Start with a given dictionary, update the age, and print it\n",
    "# Explanation: We start with the given dictionary, then update the age and print the updated dictionary.\n",
    "person = {\n",
    "    \"name\": \"Alice\",        # The person's name\n",
    "    \"age\": 30               # The person's current age\n",
    "}\n",
    "\n",
    "# Update age to 31\n",
    "person[\"age\"] = 31         # Modifying the 'age' key's value from 30 to 31\n",
    "\n",
    "# Print the updated dictionary\n",
    "print(\"Updated dictionary:\", person)  # Printing the updated dictionary to confirm the change\n"
   ]
  },
  {
   "cell_type": "markdown",
   "metadata": {},
   "source": [
    "## Popcorn Hack: Simple Python script to count the length of a string"
   ]
  },
  {
   "cell_type": "code",
   "execution_count": 7,
   "metadata": {},
   "outputs": [
    {
     "name": "stdout",
     "output_type": "stream",
     "text": [
      "The length of the entered string is: 5\n"
     ]
    }
   ],
   "source": [
    "# Get user input\n",
    "user_string = input(\"Please enter a string: \")\n",
    "\n",
    "# Count the length of the string\n",
    "string_length = len(user_string)\n",
    "\n",
    "# Print the length of the string\n",
    "print(f\"The length of the entered string is: {string_length}\")"
   ]
  },
  {
   "cell_type": "markdown",
   "metadata": {},
   "source": [
    "## Popcorn Hack: create a dictionary, update an item, and add an item"
   ]
  },
  {
   "cell_type": "code",
   "execution_count": 8,
   "metadata": {},
   "outputs": [
    {
     "name": "stdout",
     "output_type": "stream",
     "text": [
      "{'name': 'Ahaan', 'age': 25, 'is_student': False, 'Thomas': {'name': 'Thomas', 'age': 23, 'is_student': True}}\n"
     ]
    }
   ],
   "source": [
    "# Creating dictionary \n",
    "person = {\n",
    "    \"name\": \"Ahaan\",\n",
    "    \"age\": 15,\n",
    "    \"is_student\": False\n",
    "}\n",
    "\n",
    "person[\"age\"] = 25    # Update item\n",
    "\n",
    "# Adding an item\n",
    "person[\"Thomas\"] = {\n",
    "    \"name\": \"Thomas\",   \n",
    "    \"age\": 23,\n",
    "    \"is_student\": True\n",
    "} \n",
    "print(person)"
   ]
  }
 ],
 "metadata": {
  "kernelspec": {
   "display_name": "venv",
   "language": "python",
   "name": "python3"
  },
  "language_info": {
   "codemirror_mode": {
    "name": "ipython",
    "version": 3
   },
   "file_extension": ".py",
   "mimetype": "text/x-python",
   "name": "python",
   "nbconvert_exporter": "python",
   "pygments_lexer": "ipython3",
   "version": "3.12.6"
  }
 },
 "nbformat": 4,
 "nbformat_minor": 2
}
