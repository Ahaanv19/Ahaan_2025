{
 "cells": [
  {
   "cell_type": "raw",
   "metadata": {
    "vscode": {
     "languageId": "raw"
    }
   },
   "source": [
    "---\n",
    "toc: true\n",
    "comments: true\n",
    "layout: post\n",
    "title: \"3.6 and 3.7 Homework\"\n",
    "type: ccc\n",
    "---"
   ]
  },
  {
   "cell_type": "markdown",
   "metadata": {},
   "source": [
    "## HW Question 1"
   ]
  },
  {
   "cell_type": "code",
   "execution_count": null,
   "metadata": {},
   "outputs": [],
   "source": [
    "# Prompts user to enter age\n",
    "user_age= int(input(\"What is your age?\"))\n",
    "# Will determine whether the user is old enough to vote. \n",
    "if user_age >= 18:\n",
    "    print(\"You are old enough to Vote!\")\n",
    "else:\n",
    "    print(\"You are not able to vote. You must be at least 18 years old\")    "
   ]
  },
  {
   "cell_type": "markdown",
   "metadata": {},
   "source": [
    "## Quick Quiz 1\n",
    "\n",
    "### What would the function output if the user’s age was 16?\n",
    "You aren't old enough to vote\n",
    "\n",
    "### When the age of the user is greater than 18, what is the condition in the if statement?\n",
    "You are old enough to vote\n",
    "\n",
    "### What is the purpose of the if statement in the function?\n",
    "To see if you are old enough to vote."
   ]
  },
  {
   "cell_type": "markdown",
   "metadata": {},
   "source": [
    "## HW Question 2"
   ]
  },
  {
   "cell_type": "code",
   "execution_count": null,
   "metadata": {
    "vscode": {
     "languageId": "javascript"
    }
   },
   "outputs": [],
   "source": [
    "%%html\n",
    "\n",
    "// Ask user input\n",
    "let user_health = prompt(\"Are you healthy, unhealthy, or indifferent about food?\");\n",
    "\n",
    "if (user_health === \"healthy\") {\n",
    "    console.log(\"Treat yourself to chocolate!\");\n",
    "} else {\n",
    "    // Check for the other conditions within the else block\n",
    "    if (user_health === \"unhealthy\") {\n",
    "        console.log(\"You need to eat some fruits and vegetables!\");\n",
    "    } else {\n",
    "        console.log(\"You can eat whatever you like\");\n",
    "    }\n",
    "}\n",
    "\n"
   ]
  },
  {
   "cell_type": "markdown",
   "metadata": {},
   "source": [
    "## Quick Quiz 2\n",
    "\n",
    "### What would the function output if the user’s age was not healthy?\n",
    "\n",
    "You need to eat some fruits and vegtables!\n",
    "\n",
    "### When the age of the user is unhealthy, what is the condition in the if statement?\n",
    "\n",
    "You can eat whatever you like"
   ]
  }
 ],
 "metadata": {
  "kernelspec": {
   "display_name": "venv",
   "language": "python",
   "name": "python3"
  },
  "language_info": {
   "codemirror_mode": {
    "name": "ipython",
    "version": 3
   },
   "file_extension": ".py",
   "mimetype": "text/x-python",
   "name": "python",
   "nbconvert_exporter": "python",
   "pygments_lexer": "ipython3",
   "version": "3.12.6"
  }
 },
 "nbformat": 4,
 "nbformat_minor": 2
}
