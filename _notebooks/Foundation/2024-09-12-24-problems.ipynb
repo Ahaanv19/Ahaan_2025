{
 "cells": [
  {
   "cell_type": "raw",
   "metadata": {
    "vscode": {
     "languageId": "raw"
    }
   },
   "source": [
    "---\n",
    "toc: true\n",
    "comments: false\n",
    "layout: post\n",
    "title: \"Problems and Questions for AP Exam\"\n",
    "permalink: /problems/\n",
    "type: ccc\n",
    "courses: { capsule: {week: 0} }"
   ]
  },
  {
   "cell_type": "code",
   "execution_count": null,
   "metadata": {},
   "outputs": [],
   "source": [
    "print(\"Questions\")\n",
    "print(\"1. How do you correctly add SASS?\")\n"
   ]
  }
 ],
 "metadata": {
  "language_info": {
   "name": "python"
  }
 },
 "nbformat": 4,
 "nbformat_minor": 2
}
