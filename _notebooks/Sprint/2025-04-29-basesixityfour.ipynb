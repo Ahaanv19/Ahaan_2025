{
 "cells": [
  {
   "cell_type": "raw",
   "metadata": {
    "vscode": {
     "languageId": "raw"
    }
   },
   "source": [
    "---\n",
    "toc: true\n",
    "comments: true\n",
    "layout: post\n",
    "title: \"Base 64 Lesson\"\n",
    "type: ccc\n",
    "---\n",
    "\n"
   ]
  },
  {
   "cell_type": "markdown",
   "metadata": {},
   "source": [
    "## Popcorn Hack 1 (Images)\n",
    "\n",
    "**Question:**  \n",
    "*Which format would you use for an image with a transparent background that needs to stay sharp on any screen?*\n",
    "\n",
    "**Answer:**  \n",
    "**SVG** – Scalable Vector Graphics stay crisp on any screen size **and** support transparency.  \n",
    "- **Why not PNG?** PNG also supports transparency, but it’s a raster format and can get pixelated when scaled up.  \n",
    "- **SVG** is vector-based and resolution-independent.\n",
    "\n",
    "---\n",
    "\n",
    "## Practice MCQ\n",
    "\n",
    "**Which file format is best for an image with a transparent background?**\n",
    "\n",
    "A) JPEG  \n",
    "B) PNG  \n",
    "C) GIF  \n",
    "D) BMP\n",
    "\n",
    "<details>\n",
    "<summary>Reveal Answer</summary>\n",
    "\n",
    "**Correct Answer:** **B) PNG**\n",
    "\n",
    "**Explanation:**  \n",
    "- PNG supports full alpha transparency and is lossless.  \n",
    "- JPEG doesn't support transparency.  \n",
    "- GIF only supports 1-bit transparency and limited colors.  \n",
    "- BMP lacks modern transparency features and is rarely used.\n",
    "</details>\n"
   ]
  },
  {
   "cell_type": "markdown",
   "metadata": {},
   "source": [
    "## Popcorn Hack 2 (Base 64)\n",
    "\n",
    "**Question:**  \n",
    "*What do you think could be one downside of Base64 in the real world?*\n",
    "\n",
    "**Answer:**  \n",
    " **Increased Data Size** – Base64 increases data size by about 33%, which can be inefficient for large files.  \n",
    " **Not Secure** – Base64 is not encryption; it's easy to decode.  \n",
    " **Processing Overhead** – Encoding/decoding adds computational cost.  \n",
    " **Limited Use Cases** – Best used for transmitting binary data over text-based systems, not as a general-purpose format.\n",
    "\n",
    "---\n",
    "\n",
    "## Practice MCQ\n",
    "\n",
    "**Which of the following is true about Base64 encoding?**\n",
    "\n",
    "A) It encrypts data to make it secure  \n",
    "B) It increases the size of the data  \n",
    "C) It reduces the size of the data  \n",
    "D) It ensures data is unreadable by humans\n",
    "\n",
    "<details>\n",
    "<summary>Reveal Answer</summary>\n",
    "\n",
    "**Correct Answer:** **B) It increases the size of the data**\n",
    "\n",
    "**Explanation:**  \n",
    "- Base64 **increases** the size of the data by about **33%**.  \n",
    "- It is **not encryption** and can be easily decoded.  \n",
    "- It doesn’t reduce size or make data truly unreadable—just safe for text transmission.\n",
    "</details>\n"
   ]
  },
  {
   "cell_type": "markdown",
   "metadata": {},
   "source": [
    "## MCQ Question\n",
    "\n",
    "Answer: C"
   ]
  },
  {
   "cell_type": "markdown",
   "metadata": {},
   "source": [
    "## Homework Hack: Color Codes & Base64\n",
    "\n",
    "\n",
    "### 1. What is a hex color code? What are some examples?\n",
    "\n",
    "A **hex color code** is a six-digit code used in web development and design to represent colors. It starts with a `#` and is followed by a combination of numbers (0–9) and letters (A–F).\n",
    "\n",
    "- `#FF0000` = Red  \n",
    "- `#00FF00` = Green  \n",
    "- `#0000FF` = Blue  \n",
    "\n",
    "🔎 **Application Example:**  \n",
    "In my web project, I used `#1E90FF` (DodgerBlue) for button backgrounds to make them visually pop.\n",
    "\n",
    "---\n",
    "\n",
    "### 2. What is Base64 and how is it used with images?\n",
    "\n",
    "**Base64** is a way of encoding binary data (like images) into a **text** format using only printable characters. It's often used to embed images directly into HTML or CSS without separate image files.\n",
    "\n",
    "- Instead of loading an image file from disk or the internet, the image is encoded as a long Base64 string.\n",
    "\n",
    " **Application Example:**  \n",
    "In a notebook or web prototype, I used Base64 to embed icons directly into the HTML, reducing external file dependencies.\n",
    "\n",
    "---\n",
    "\n",
    "### 3. Why might you use Base64 instead of a regular image file?\n",
    "\n",
    "**Reasons to use Base64:**\n",
    "- Embeds image data directly into code (no extra requests).\n",
    "- Useful for **small images** like logos, favicons, or UI icons.\n",
    "- Improves load speed for very lightweight pages.\n",
    "\n",
    "**When not to use:**\n",
    "- Not ideal for **large images** due to increased file size (Base64 adds ~33% overhead).\n",
    "- Difficult to maintain or swap out without decoding.\n",
    "\n",
    "---\n",
    "\n",
    "\n",
    "\n",
    "\n",
    "\n",
    "\n"
   ]
  },
  {
   "cell_type": "markdown",
   "metadata": {},
   "source": [
    "<img src=\"{{site.baseurl}}/images/base64.png\" alt=\"img\">"
   ]
  },
  {
   "cell_type": "markdown",
   "metadata": {},
   "source": [
    "### Explanation\n",
    "\n",
    "The image is displayed using an HTML `<img>` tag that points to a file located at `/images/base64.png`, with `{{site.baseurl}}` dynamically filling in the base URL of the site.  \n",
    "The image must be stored in the `images` directory at the root of the project so that it can be correctly loaded.  \n",
    "When rendered, the browser replaces the template variable with the actual URL and displays the image inline.\n"
   ]
  }
 ],
 "metadata": {
  "language_info": {
   "name": "python"
  }
 },
 "nbformat": 4,
 "nbformat_minor": 2
}
