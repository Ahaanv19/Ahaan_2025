{
 "cells": [
  {
   "cell_type": "raw",
   "metadata": {
    "vscode": {
     "languageId": "raw"
    }
   },
   "source": [
    "---\n",
    "toc: true\n",
    "comments: true\n",
    "layout: post\n",
    "title: \"4/9/25 Cybersecurity Pannel\"\n",
    "type: ccc\n",
    "---"
   ]
  },
  {
   "cell_type": "markdown",
   "metadata": {},
   "source": [
    "## Reflection and Takeaways \n",
    "\n",
    "Based on this pannel, I learned that cybersecurity is the prevention of data breaches, and privacy. Mr. Dave mentioned if you have a passion working in the government, working his job in the FBI is the best way to get into the computer science field, and work as a cybersecurity expert in the government. I found this really interesting to work with the FBI, while still going into the computer science pathway. One of the areas that Mr. Dave works with is tackling ransom ware, which I did not know was such a big issue in the United States that costs millions of dollars, and can kill a bussiness. Ms Tricia explained how in the 1900's security was not at all important, however today, cybersecurity is very important and it is it's own field. Mr Dave, explained how he never wanted to work woth computers, but after working in cybersecurity, he thinks it is awesome and amazing. Mr. Victor said that if you want to go into cybersecurity, you should build an IT foundation, and it is exteremly important to have one. He also mentioned on the other side of cybersecurity is people, it's the people that drive it. AI is something that can be trained on code, and if you aren't very good at coding, AI can take your job esspically in the government. If you just fall into the field, you should have soft skills, be a good leader, a nice person, a trustworthy person, are you passion driven, important in any career in any field. It is important to be friends with good people who can help you and are commited to putting in effort and more importantly passion. Use highyl linux tools is also something important to use if you want to go into the cybersecurity field.\n",
    "\n",
    "Based on todays pannel, I have learned and understood how cybersecurity is extermely important, and can help save a bussiness from being killed. I hope one day to create my own bussiness in video game devlopment, and after today's pannel, it has shown me that cybersecurity is something exteremly important you need to make sure to stregthen and have when creating a bussiness, to avoid hacking and data breaches. I would like to dive futher into learning about cybersecurity and the benefits of having a strong form of it. It is important I learn more about this, so when I do create a bussiness one day, I can also spend time working in the cybersecurity to make sure the integrity is at the upmost importance. I am very glad I took the time to understand the importance of cybersecurity and why we need it. "
   ]
  },
  {
   "cell_type": "markdown",
   "metadata": {
    "vscode": {
     "languageId": "raw"
    }
   },
   "source": [
    "<img src=\"{{site.baseurl}}/images/pan.png\" alt=\"img\">"
   ]
  },
  {
   "cell_type": "markdown",
   "metadata": {},
   "source": [
    "<img src=\"{{site.baseurl}}/images/csp.png\" alt=\"img\">"
   ]
  }
 ],
 "metadata": {
  "language_info": {
   "name": "python"
  }
 },
 "nbformat": 4,
 "nbformat_minor": 2
}
