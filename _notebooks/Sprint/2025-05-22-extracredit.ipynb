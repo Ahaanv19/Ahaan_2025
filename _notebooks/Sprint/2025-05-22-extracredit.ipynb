{
 "cells": [
  {
   "cell_type": "raw",
   "metadata": {
    "vscode": {
     "languageId": "raw"
    }
   },
   "source": [
    "---\n",
    "toc: true\n",
    "comments: true\n",
    "layout: post\n",
    "permalinki: /credit/\n",
    "title: \"5/22/25 CTE Expo \"\n",
    "type: ccc\n",
    "---"
   ]
  },
  {
   "cell_type": "markdown",
   "metadata": {},
   "source": [
    "## My Experience\n",
    "\n",
    "I really enjoyed the expo and seeing all the booths. Below I have a picture of me at the Open Coding Society Booth, and also another Booth, from Rancho Bernardo High School.\n",
    "\n"
   ]
  },
  {
   "cell_type": "markdown",
   "metadata": {
    "vscode": {
     "languageId": "raw"
    }
   },
   "source": [
    "<img src=\"{{site.baseurl}}/images/hpc.png\" alt=\"img\">"
   ]
  },
  {
   "cell_type": "markdown",
   "metadata": {},
   "source": [
    "<img src=\"{{site.baseurl}}/images/hps.png\" alt=\"img\">"
   ]
  },
  {
   "cell_type": "markdown",
   "metadata": {},
   "source": [
    "<img src=\"{{site.baseurl}}/images/hpp.png\" alt=\"img\">"
   ]
  }
 ],
 "metadata": {
  "language_info": {
   "name": "python"
  }
 },
 "nbformat": 4,
 "nbformat_minor": 2
}
