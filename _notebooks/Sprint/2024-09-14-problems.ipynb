{
 "cells": [
  {
   "cell_type": "raw",
   "metadata": {
    "vscode": {
     "languageId": "raw"
    }
   },
   "source": [
    "---\n",
    "toc: true\n",
    "comments: false\n",
    "layout: post\n",
    "title: \"Expected Results But Problems\"\n",
    "permalink: /problems/\n",
    "type: ccc\n",
    "courses: { capsule: {week: 0} }\n",
    "---"
   ]
  },
  {
   "cell_type": "markdown",
   "metadata": {},
   "source": [
    " (venv) ahaanvaidyanathan@Ahaans-MacBook-Pro Ahaan_2025 % make Stopping server...Stopping logging process...\n",
    "make: *** No rule to make target `_notebooks/_Sprint', needed by `convert'.\n",
    "\n",
    "This error happened after adding the extension for the javascript notebook. When I tried doing make, it gave me this error instead of my intended local website file. This was due to a formating and naming error."
   ]
  },
  {
   "cell_type": "raw",
   "metadata": {},
   "source": []
  },
  {
   "cell_type": "raw",
   "metadata": {},
   "source": []
  }
 ],
 "metadata": {
  "kernelspec": {
   "display_name": "venv",
   "language": "python",
   "name": "python3"
  },
  "language_info": {
   "codemirror_mode": {
    "name": "ipython",
    "version": 3
   },
   "file_extension": ".py",
   "mimetype": "text/x-python",
   "name": "python",
   "nbconvert_exporter": "python",
   "pygments_lexer": "ipython3",
   "version": "3.12.6"
  }
 },
 "nbformat": 4,
 "nbformat_minor": 2
}
