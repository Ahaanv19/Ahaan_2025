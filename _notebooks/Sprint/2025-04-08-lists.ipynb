{
 "cells": [
  {
   "cell_type": "raw",
   "metadata": {
    "vscode": {
     "languageId": "raw"
    }
   },
   "source": [
    "---\n",
    "toc: true\n",
    "comments: true\n",
    "layout: post\n",
    "title: \"Binary Search Algorithms\"\n",
    "type: ccc\n",
    "---"
   ]
  },
  {
   "cell_type": "markdown",
   "metadata": {},
   "source": [
    "## Popcorn Hack 1\n",
    "\n",
    "\n"
   ]
  },
  {
   "cell_type": "code",
   "execution_count": 1,
   "metadata": {},
   "outputs": [
    {
     "name": "stdout",
     "output_type": "stream",
     "text": [
      "Updated Movie List:\n",
      "['Inception', 'Everything Everywhere All At Once', 'The Dark Knight', 'Avengers', 'Spider-Man: Into the Spider-Verse']\n"
     ]
    }
   ],
   "source": [
    "# Initial list of favorite movies\n",
    "movies = [\"Inception\", \"Interstellar\", \"The Dark Knight\", \"Avengers\"]\n",
    "\n",
    "# Replace the second movie (index 1)\n",
    "movies[1] = \"Everything Everywhere All At Once\"\n",
    "\n",
    "# Add another movie\n",
    "movies.append(\"Spider-Man: Into the Spider-Verse\")\n",
    "\n",
    "# Display the updated list\n",
    "print(\"Updated Movie List:\")\n",
    "print(movies)\n"
   ]
  },
  {
   "cell_type": "markdown",
   "metadata": {},
   "source": [
    "## Popcorn Hack 2\n",
    "\n"
   ]
  },
  {
   "cell_type": "code",
   "execution_count": 2,
   "metadata": {},
   "outputs": [
    {
     "name": "stdout",
     "output_type": "stream",
     "text": [
      "Voter Eligible Ages:\n",
      "[20, 34, 18, 21, 19]\n"
     ]
    }
   ],
   "source": [
    "ages = [15, 20, 34, 16, 18, 21, 14, 19]\n",
    "\n",
    "# Filter for ages 18 or older\n",
    "voter_eligible = [age for age in ages if age >= 18]\n",
    "\n",
    "print(\"Voter Eligible Ages:\")\n",
    "print(voter_eligible)\n"
   ]
  },
  {
   "cell_type": "markdown",
   "metadata": {},
   "source": [
    "## Homework Hack #1: Video Notes\n",
    "🔹 Complete Python List Tutorial\n",
    "- Lists are mutable — you can change, add, or remove elements.\n",
    "\n",
    "- You can access list items with indexing and slicing.\n",
    "\n",
    "- append() adds an item; insert() adds at a specific index.\n",
    "\n",
    "- remove() deletes by value; pop() removes by index.\n",
    "\n",
    "- List comprehension allows clean one-liner filtering.\n",
    "\n",
    "- len() gives list size; sort()/reverse() change order.\n",
    "\n",
    "🔹 How to Filter Lists in Python\n",
    "- List comprehension is the most efficient filtering method.\n",
    "\n",
    "- Filtering syntax: [item for item in list if condition].\n",
    "\n",
    "- You can filter based on multiple conditions using and/or.\n",
    "\n",
    "- Filtering works with strings, numbers, even custom objects.\n",
    "\n",
    "- filter() + lambda is an alternative way to filter.\n",
    "\n",
    "- Filtering is linear in time complexity: O(n).\n",
    "\n",
    "- Always test your filters to confirm accuracy.\n",
    "\n",
    "\n",
    "\n",
    "\n"
   ]
  },
  {
   "cell_type": "markdown",
   "metadata": {},
   "source": [
    "## Homework Hack #2: Filter Numbers Divisible by 3 but Not 5\n"
   ]
  },
  {
   "cell_type": "code",
   "execution_count": 3,
   "metadata": {},
   "outputs": [
    {
     "name": "stdout",
     "output_type": "stream",
     "text": [
      "Original Numbers:\n",
      "[1, 2, 3, 4, 5, 6, 7, 8, 9, 10, 11, 12, 13, 14, 15, 16, 17, 18, 19, 20, 21, 22, 23, 24, 25, 26, 27, 28, 29, 30]\n",
      "Filtered Numbers (Divisible by 3 but not 5):\n",
      "[3, 6, 9, 12, 18, 21, 24, 27]\n"
     ]
    }
   ],
   "source": [
    "# Original list from 1 to 30\n",
    "numbers = list(range(1, 31))\n",
    "\n",
    "# Filter numbers divisible by 3 but NOT by 5\n",
    "filtered = [num for num in numbers if num % 3 == 0 and num % 5 != 0]\n",
    "\n",
    "print(\"Original Numbers:\")\n",
    "print(numbers)\n",
    "\n",
    "print(\"Filtered Numbers (Divisible by 3 but not 5):\")\n",
    "print(filtered)\n"
   ]
  },
  {
   "cell_type": "markdown",
   "metadata": {},
   "source": [
    "## Homework Hack #3 (Bonus Challenge): filter_long_names Function"
   ]
  },
  {
   "cell_type": "code",
   "execution_count": 4,
   "metadata": {},
   "outputs": [
    {
     "name": "stdout",
     "output_type": "stream",
     "text": [
      "Names with 5+ letters:\n",
      "['Alexander', 'Isabella', 'Sophia']\n"
     ]
    }
   ],
   "source": [
    "def filter_long_names(names, min_length):\n",
    "    \"\"\"Returns a list of names with length >= min_length.\"\"\"\n",
    "    return [name for name in names if len(name) >= min_length]\n",
    "\n",
    "# Test it with a sample list\n",
    "sample_names = [\"Zoe\", \"Alexander\", \"Liam\", \"Noah\", \"Isabella\", \"Emma\", \"Sophia\"]\n",
    "min_len = 5\n",
    "\n",
    "result = filter_long_names(sample_names, min_len)\n",
    "print(f\"Names with {min_len}+ letters:\")\n",
    "print(result)\n"
   ]
  },
  {
   "cell_type": "markdown",
   "metadata": {},
   "source": [
    "## Review Questions"
   ]
  },
  {
   "cell_type": "markdown",
   "metadata": {},
   "source": [
    "###  1. What are lists in Python?\n",
    "\n",
    "Lists are ordered, changeable (mutable) collections used to store multiple items.  \n",
    "**Common operations:**\n",
    "- `append()` → add item to end  \n",
    "- `remove()` → delete item  \n",
    "- `my_list[i] = value` → update item  \n",
    "- `sort()`, `reverse()` → organize items  \n",
    "\n",
    "---\n",
    "\n",
    "###  2. Real-world scenario for filtering algorithms\n",
    "\n",
    "A music app filtering songs based on user preferences like:\n",
    "- Genre (e.g., pop, jazz)\n",
    "- Artist\n",
    "- Rating or popularity\n",
    "\n",
    "---\n",
    "\n",
    "###  3. Why is filtering efficiency important?\n",
    "\n",
    "Efficient filtering:\n",
    "- Saves time and memory\n",
    "- Speeds up performance with large datasets\n",
    "- Improves user experience in real-time apps\n",
    "\n"
   ]
  }
 ],
 "metadata": {
  "kernelspec": {
   "display_name": "venv",
   "language": "python",
   "name": "python3"
  },
  "language_info": {
   "codemirror_mode": {
    "name": "ipython",
    "version": 3
   },
   "file_extension": ".py",
   "mimetype": "text/x-python",
   "name": "python",
   "nbconvert_exporter": "python",
   "pygments_lexer": "ipython3",
   "version": "3.12.6"
  }
 },
 "nbformat": 4,
 "nbformat_minor": 2
}
