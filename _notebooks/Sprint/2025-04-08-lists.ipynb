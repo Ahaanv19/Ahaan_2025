{
 "cells": [
  {
   "cell_type": "raw",
   "metadata": {
    "vscode": {
     "languageId": "raw"
    }
   },
   "source": [
    "---\n",
    "toc: true\n",
    "comments: true\n",
    "layout: post\n",
    "title: \"Lists and Flitering Algorithms\"\n",
    "type: ccc\n",
    "---"
   ]
  },
  {
   "cell_type": "markdown",
   "metadata": {},
   "source": [
    "## Popcorn Hack 1\n",
    "\n",
    "\n"
   ]
  },
  {
   "cell_type": "code",
   "execution_count": 1,
   "metadata": {},
   "outputs": [
    {
     "name": "stdout",
     "output_type": "stream",
     "text": [
      "Updated Movie List:\n",
      "['Inception', 'Everything Everywhere All At Once', 'The Dark Knight', 'Avengers', 'Spider-Man: Into the Spider-Verse']\n"
     ]
    }
   ],
   "source": [
    "# Initial list of favorite movies\n",
    "movies = [\"Inception\", \"Interstellar\", \"The Dark Knight\", \"Avengers\"]\n",
    "\n",
    "# Replace the second movie (index 1)\n",
    "movies[1] = \"Everything Everywhere All At Once\"\n",
    "\n",
    "# Add another movie\n",
    "movies.append(\"Spider-Man: Into the Spider-Verse\")\n",
    "\n",
    "# Display the updated list\n",
    "print(\"Updated Movie List:\")\n",
    "print(movies)\n"
   ]
  },
  {
   "cell_type": "markdown",
   "metadata": {},
   "source": [
    "## Popcorn Hack 2\n",
    "\n"
   ]
  },
  {
   "cell_type": "code",
   "execution_count": 2,
   "metadata": {},
   "outputs": [
    {
     "name": "stdout",
     "output_type": "stream",
     "text": [
      "Voter Eligible Ages:\n",
      "[20, 34, 18, 21, 19]\n"
     ]
    }
   ],
   "source": [
    "ages = [15, 20, 34, 16, 18, 21, 14, 19]\n",
    "\n",
    "# Filter for ages 18 or older\n",
    "voter_eligible = [age for age in ages if age >= 18]\n",
    "\n",
    "print(\"Voter Eligible Ages:\")\n",
    "print(voter_eligible)\n"
   ]
  },
  {
   "cell_type": "markdown",
   "metadata": {},
   "source": [
    "## Homework Hack #1: Video Notes\n",
    "🔹 Complete Python List Tutorial\n",
    "- Lists are mutable — you can change, add, or remove elements.\n",
    "\n",
    "- You can access list items with indexing and slicing.\n",
    "\n",
    "- append() adds an item; insert() adds at a specific index.\n",
    "\n",
    "- remove() deletes by value; pop() removes by index.\n",
    "\n",
    "- List comprehension allows clean one-liner filtering.\n",
    "\n",
    "- len() gives list size; sort()/reverse() change order.\n",
    "\n",
    "🔹 How to Filter Lists in Python\n",
    "- List comprehension is the most efficient filtering method.\n",
    "\n",
    "- Filtering syntax: [item for item in list if condition].\n",
    "\n",
    "- You can filter based on multiple conditions using and/or.\n",
    "\n",
    "- Filtering works with strings, numbers, even custom objects.\n",
    "\n",
    "- filter() + lambda is an alternative way to filter.\n",
    "\n",
    "- Filtering is linear in time complexity: O(n).\n",
    "\n",
    "- Always test your filters to confirm accuracy.\n",
    "\n",
    "\n",
    "\n",
    "\n"
   ]
  },
  {
   "cell_type": "markdown",
   "metadata": {},
   "source": [
    "## Homework Hack #2: Filter Numbers Divisible by 3 but Not 5\n"
   ]
  },
  {
   "cell_type": "code",
   "execution_count": 3,
   "metadata": {},
   "outputs": [
    {
     "name": "stdout",
     "output_type": "stream",
     "text": [
      "Original Numbers:\n",
      "[1, 2, 3, 4, 5, 6, 7, 8, 9, 10, 11, 12, 13, 14, 15, 16, 17, 18, 19, 20, 21, 22, 23, 24, 25, 26, 27, 28, 29, 30]\n",
      "Filtered Numbers (Divisible by 3 but not 5):\n",
      "[3, 6, 9, 12, 18, 21, 24, 27]\n"
     ]
    }
   ],
   "source": [
    "# Original list from 1 to 30\n",
    "numbers = list(range(1, 31))\n",
    "\n",
    "# Filter numbers divisible by 3 but NOT by 5\n",
    "filtered = [num for num in numbers if num % 3 == 0 and num % 5 != 0]\n",
    "\n",
    "print(\"Original Numbers:\")\n",
    "print(numbers)\n",
    "\n",
    "print(\"Filtered Numbers (Divisible by 3 but not 5):\")\n",
    "print(filtered)\n"
   ]
  },
  {
   "cell_type": "markdown",
   "metadata": {},
   "source": [
    "## Homework Hack 3: Develop a function named filter_spotify_data"
   ]
  },
  {
   "cell_type": "code",
   "execution_count": 7,
   "metadata": {},
   "outputs": [
    {
     "name": "stdout",
     "output_type": "stream",
     "text": [
      "         Country         Artist                    Album    Genre  \\\n",
      "133        Italy   Taylor Swift  1989 (Taylor's Version)    Indie   \n",
      "73        Brazil     Ed Sheeran        Autumn Variations      Pop   \n",
      "218    Argentina  Ariana Grande         Eternal Sunshine    K-pop   \n",
      "148        India            BTS                    Proof      R&B   \n",
      "187  South Korea            SZA                      SOS      Pop   \n",
      "..           ...            ...                      ...      ...   \n",
      "444        Japan      BLACKPINK                BORN PINK    K-pop   \n",
      "398  Netherlands   Taylor Swift  1989 (Taylor's Version)      R&B   \n",
      "378  Netherlands  Billie Eilish        Happier Than Ever  Hip Hop   \n",
      "470        India            BTS                    Proof     Jazz   \n",
      "340        India      BLACKPINK                BORN PINK    K-pop   \n",
      "\n",
      "     Release Year  Monthly Listeners (Millions)  Total Streams (Millions)  \\\n",
      "133          2020                         18.85                   1110.25   \n",
      "73           2021                         73.72                   3038.38   \n",
      "218          2020                         27.47                   2014.64   \n",
      "148          2018                         79.32                   4434.66   \n",
      "187          2018                         30.54                   3033.78   \n",
      "..            ...                           ...                       ...   \n",
      "444          2021                         99.80                   2345.24   \n",
      "398          2018                         13.66                   2982.12   \n",
      "378          2023                         68.92                    167.58   \n",
      "470          2018                         32.61                   2846.32   \n",
      "340          2022                         62.69                   2989.92   \n",
      "\n",
      "     Total Hours Streamed (Millions)  Avg Stream Duration (Min) Platform Type  \\\n",
      "133                          4879.92                       3.47          Free   \n",
      "73                           7753.12                       2.96          Free   \n",
      "218                          6539.73                       3.31          Free   \n",
      "148                         13885.77                       3.12       Premium   \n",
      "187                         13217.91                       3.17       Premium   \n",
      "..                               ...                        ...           ...   \n",
      "444                          9575.26                       3.16          Free   \n",
      "398                          8258.83                       3.53          Free   \n",
      "378                           659.22                       2.58          Free   \n",
      "470                          8976.33                       3.90          Free   \n",
      "340                          7761.60                       2.72          Free   \n",
      "\n",
      "     Streams Last 30 Days (Millions)  Skip Rate (%)  \n",
      "133                           200.00           7.04  \n",
      "73                            199.91          27.22  \n",
      "218                           198.06           9.81  \n",
      "148                           197.84          22.18  \n",
      "187                           197.83          22.19  \n",
      "..                               ...            ...  \n",
      "444                            12.15          31.25  \n",
      "398                            12.13          11.07  \n",
      "378                            11.80          31.97  \n",
      "470                            11.05          29.53  \n",
      "340                            10.60           5.52  \n",
      "\n",
      "[476 rows x 12 columns]\n"
     ]
    }
   ],
   "source": [
    "\n",
    "\n",
    "import pandas as pd\n",
    "\n",
    "def filter_spotify_data(file_path):\n",
    "    # Load the Spotify CSV data\n",
    "    df = pd.read_csv(file_path)\n",
    "\n",
    "    # Filter for songs with over 10 million streams in the last 30 days\n",
    "    filtered_df = df[df[\"Streams Last 30 Days (Millions)\"] > 10]\n",
    "\n",
    "    # Sort by most streamed\n",
    "    filtered_df = filtered_df.sort_values(by=\"Streams Last 30 Days (Millions)\", ascending=False)\n",
    "\n",
    "    return filtered_df\n",
    "\n",
    "# File path to your CSV file\n",
    "file_path = \"Spotify_2024_Global_Streaming_Data.csv\"\n",
    "\n",
    "# Apply the function\n",
    "filtered_songs = filter_spotify_data(file_path)\n",
    "\n",
    "# Display the result\n",
    "print(filtered_songs)\n",
    "\n"
   ]
  },
  {
   "cell_type": "markdown",
   "metadata": {},
   "source": [
    "## Review Questions"
   ]
  },
  {
   "cell_type": "markdown",
   "metadata": {},
   "source": [
    "###  1. What are lists in Python?\n",
    "\n",
    "Lists are ordered, changeable (mutable) collections used to store multiple items.  \n",
    "**Common operations:**\n",
    "- `append()` → add item to end  \n",
    "- `remove()` → delete item  \n",
    "- `my_list[i] = value` → update item  \n",
    "- `sort()`, `reverse()` → organize items  \n",
    "\n",
    "---\n",
    "\n",
    "###  2. Real-world scenario for filtering algorithms\n",
    "\n",
    "A music app filtering songs based on user preferences like:\n",
    "- Genre (e.g., pop, jazz)\n",
    "- Artist\n",
    "- Rating or popularity\n",
    "\n",
    "---\n",
    "\n",
    "###  3. Why is filtering efficiency important?\n",
    "\n",
    "Efficient filtering:\n",
    "- Saves time and memory\n",
    "- Speeds up performance with large datasets\n",
    "- Improves user experience in real-time apps\n",
    "\n"
   ]
  }
 ],
 "metadata": {
  "kernelspec": {
   "display_name": "venv",
   "language": "python",
   "name": "python3"
  },
  "language_info": {
   "codemirror_mode": {
    "name": "ipython",
    "version": 3
   },
   "file_extension": ".py",
   "mimetype": "text/x-python",
   "name": "python",
   "nbconvert_exporter": "python",
   "pygments_lexer": "ipython3",
   "version": "3.12.6"
  }
 },
 "nbformat": 4,
 "nbformat_minor": 2
}
