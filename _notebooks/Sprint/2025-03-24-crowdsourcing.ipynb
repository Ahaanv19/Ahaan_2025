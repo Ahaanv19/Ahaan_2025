{
 "cells": [
  {
   "cell_type": "raw",
   "metadata": {
    "vscode": {
     "languageId": "raw"
    }
   },
   "source": [
    "---\n",
    "toc: true\n",
    "comments: true\n",
    "layout: post\n",
    "title: \"Crowdsourcing\"\n",
    "type: ccc\n",
    "---\n",
    "\n"
   ]
  },
  {
   "cell_type": "markdown",
   "metadata": {},
   "source": [
    "## Popcorn Hack 1\n",
    "\n",
    "An example of crowdsourcing I've used in my life is my Perfomance Task Program from last tri. Multiple people contributed in creating different parts to the project to more efficently create a good product. "
   ]
  },
  {
   "cell_type": "markdown",
   "metadata": {},
   "source": [
    "## Popcorn Hack 2\n",
    "Not always because some of the people contributing may not be realible like on wikapedia, where some people will give answers just to be funny, instead of informative."
   ]
  },
  {
   "cell_type": "markdown",
   "metadata": {},
   "source": [
    "## MCQ Question\n",
    "\n",
    "Answer: C"
   ]
  },
  {
   "cell_type": "markdown",
   "metadata": {},
   "source": [
    "## Popcorn Hack 3\n",
    "Duolingo, Duolingo is a website that utilizes crowdsourcing to improve its courses. One can contribute to it by developing and expanding language courses, translating content, and giving feedback on lessons. As a crowdsourced website, this opens language options up to be added and content to be developed through user contributions."
   ]
  },
  {
   "cell_type": "markdown",
   "metadata": {},
   "source": [
    "## Homework Hack: Two Pop Songs\n",
    "___\n",
    "Song 1: \"As It Was\" – Harry Styles\n",
    "___\n",
    "Song 2: \"Blinding Lights\" – The Weeknd\n",
    "___\n",
    "\n",
    "Crowdsourcing improves the playlist by adding varied new and fresh pop songs, thus making it enjoyable to more people. However, it could also lead to inconsistency and disorganization if songs do not fit the theme or are duplicates.\n",
    "\n",
    "\n",
    "\n"
   ]
  }
 ],
 "metadata": {
  "language_info": {
   "name": "python"
  }
 },
 "nbformat": 4,
 "nbformat_minor": 2
}
