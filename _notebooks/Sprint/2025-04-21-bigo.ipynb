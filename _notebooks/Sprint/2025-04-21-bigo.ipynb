{
 "cells": [
  {
   "cell_type": "raw",
   "metadata": {
    "vscode": {
     "languageId": "raw"
    }
   },
   "source": [
    "---\n",
    "toc: true\n",
    "comments: true\n",
    "layout: post\n",
    "title: \"Big O Lesson\"\n",
    "type: ccc\n",
    "---"
   ]
  },
  {
   "cell_type": "markdown",
   "metadata": {},
   "source": [
    "## Popcorn Hack 1\n",
    "\n",
    "\n"
   ]
  },
  {
   "cell_type": "code",
   "execution_count": 1,
   "metadata": {},
   "outputs": [
    {
     "name": "stdout",
     "output_type": "stream",
     "text": [
      "Constant time access: cherry\n",
      "Linear time access:\n",
      "apple\n",
      "banana\n",
      "cherry\n",
      "date\n"
     ]
    }
   ],
   "source": [
    "# O(1) - Constant Time\n",
    "items = [\"apple\", \"banana\", \"cherry\", \"date\"]\n",
    "print(\"Constant time access:\", items[2])  # prints \"cherry\"\n",
    "\n",
    "# O(n) - Linear Time\n",
    "print(\"Linear time access:\")\n",
    "for item in items:\n",
    "    print(item)\n"
   ]
  },
  {
   "cell_type": "markdown",
   "metadata": {},
   "source": [
    "## Popcorn Hack #2\n"
   ]
  },
  {
   "cell_type": "code",
   "execution_count": 2,
   "metadata": {},
   "outputs": [
    {
     "name": "stdout",
     "output_type": "stream",
     "text": [
      "O(n³) triple loop output:\n",
      "1 1 1\n",
      "1 1 2\n",
      "1 1 3\n",
      "1 2 1\n",
      "1 2 2\n",
      "1 2 3\n",
      "1 3 1\n",
      "1 3 2\n",
      "1 3 3\n",
      "2 1 1\n",
      "2 1 2\n",
      "2 1 3\n",
      "2 2 1\n",
      "2 2 2\n",
      "2 2 3\n",
      "2 3 1\n",
      "2 3 2\n",
      "2 3 3\n",
      "3 1 1\n",
      "3 1 2\n",
      "3 1 3\n",
      "3 2 1\n",
      "3 2 2\n",
      "3 2 3\n",
      "3 3 1\n",
      "3 3 2\n",
      "3 3 3\n"
     ]
    }
   ],
   "source": [
    "# O(n³) - Triple nested loop\n",
    "arr = [1, 2, 3]\n",
    "print(\"O(n³) triple loop output:\")\n",
    "for i in arr:\n",
    "    for j in arr:\n",
    "        for k in arr:\n",
    "            print(i, j, k)\n"
   ]
  },
  {
   "cell_type": "markdown",
   "metadata": {},
   "source": [
    "## Popcorn Hack 3\n",
    "\n",
    " ### Q1: Which is inefficient for large inputs?\n",
    " ✅ Correct Answer: b) Factorial Time\n",
    " Explanation: Factorial time grows extremely fast as the input size increases, making algorithms with this complexity impractical for large inputs. For example, an algorithm with O(n!) complexity can easily become unmanageable for n > 20.\n",
    "\n",
    " ### Q2: Which can be represented by a nested loop?\n",
    " ✅ Correct Answer: c) Quadratic Time\n",
    "Explanation: Quadratic time (O(n²)) often comes from algorithms that involve two nested loops iterating over the same dataset, such as bubble sort or nested loops checking pairs of elements. Each additional layer of nesting increases the time complexity.\n",
    "\n",
    " ### Q3: Used by efficient sorting algorithms like Merge Sort or Quick Sort?\n",
    " ✅ Correct Answer: d) Linearithmic Time\n",
    " Explanation: Merge Sort and Quick Sort both have O(n log n) time complexity because they divide the problem into smaller subproblems,recursively sorting and merging them. This logarithmic factor comes from the recursive nature of these algorithms.\n",
    "\n"
   ]
  },
  {
   "cell_type": "markdown",
   "metadata": {},
   "source": [
    "## Homework Hack"
   ]
  },
  {
   "cell_type": "code",
   "execution_count": 3,
   "metadata": {},
   "outputs": [
    {
     "name": "stdout",
     "output_type": "stream",
     "text": [
      "Constant Time Output: [10]\n",
      "Linear Time Output: [10, 20, 30]\n",
      "Quadratic Time Output: [(1, 1), (1, 2), (2, 1), (2, 2)]\n",
      "Cubic Time Output: [(1, 1, 1), (1, 1, 2), (1, 2, 1), (1, 2, 2), (2, 1, 1), (2, 1, 2), (2, 2, 1), (2, 2, 2)]\n",
      "Logarithmic Time Output: [2, 3, 5]\n",
      "Factorial Time Output (limited to 3 elements): [[1, 2, 3], [1, 3, 2], [2, 1, 3], [2, 3, 1], [3, 1, 2], [3, 2, 1]]\n"
     ]
    }
   ],
   "source": [
    "def complexity_demo(arr, complexity_type):\n",
    "    result = []\n",
    "    \n",
    "    if complexity_type == \"constant\":\n",
    "        if arr:\n",
    "            result.append(arr[0])  # O(1)\n",
    "    \n",
    "    elif complexity_type == \"linear\":\n",
    "        for item in arr:          # O(n)\n",
    "            result.append(item)\n",
    "    \n",
    "    elif complexity_type == \"quadratic\":\n",
    "        for i in arr:\n",
    "            for j in arr:         # O(n²)\n",
    "                result.append((i, j))\n",
    "    \n",
    "    elif complexity_type == \"cubic\":\n",
    "        for i in arr:\n",
    "            for j in arr:\n",
    "                for k in arr:     # O(n³)\n",
    "                    result.append((i, j, k))\n",
    "    \n",
    "    elif complexity_type == \"log\":\n",
    "        # Simulating binary search indexes for log(n)\n",
    "        i = 1\n",
    "        while i < len(arr):\n",
    "            result.append(arr[i])\n",
    "            i *= 2\n",
    "    \n",
    "    elif complexity_type == \"factorial\":\n",
    "        def permute(a, path=[]):\n",
    "            if not a:\n",
    "                result.append(path)\n",
    "                return\n",
    "            for i in range(len(a)):\n",
    "                permute(a[:i] + a[i+1:], path + [a[i]])\n",
    "        permute(arr)\n",
    "    \n",
    "    else:\n",
    "        return [\"Unsupported complexity type.\"]\n",
    "    \n",
    "    return result\n",
    "\n",
    "\n",
    "# Test examples\n",
    "print(\"Constant Time Output:\", complexity_demo([10, 20, 30], \"constant\"))\n",
    "print(\"Linear Time Output:\", complexity_demo([10, 20, 30], \"linear\"))\n",
    "print(\"Quadratic Time Output:\", complexity_demo([1, 2], \"quadratic\"))\n",
    "print(\"Cubic Time Output:\", complexity_demo([1, 2], \"cubic\"))\n",
    "print(\"Logarithmic Time Output:\", complexity_demo([1, 2, 3, 4, 5, 6, 7, 8], \"log\"))\n",
    "print(\"Factorial Time Output (limited to 3 elements):\", complexity_demo([1, 2, 3], \"factorial\"))\n"
   ]
  }
 ],
 "metadata": {
  "kernelspec": {
   "display_name": "venv",
   "language": "python",
   "name": "python3"
  },
  "language_info": {
   "codemirror_mode": {
    "name": "ipython",
    "version": 3
   },
   "file_extension": ".py",
   "mimetype": "text/x-python",
   "name": "python",
   "nbconvert_exporter": "python",
   "pygments_lexer": "ipython3",
   "version": "3.12.6"
  }
 },
 "nbformat": 4,
 "nbformat_minor": 2
}
