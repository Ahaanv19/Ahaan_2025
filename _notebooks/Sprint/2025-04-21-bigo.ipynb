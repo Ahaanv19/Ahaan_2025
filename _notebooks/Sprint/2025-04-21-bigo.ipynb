{
 "cells": [
  {
   "cell_type": "raw",
   "metadata": {
    "vscode": {
     "languageId": "raw"
    }
   },
   "source": [
    "---\n",
    "toc: true\n",
    "comments: true\n",
    "layout: post\n",
    "title: \"Big O Lesson\"\n",
    "type: ccc\n",
    "---"
   ]
  },
  {
   "cell_type": "markdown",
   "metadata": {},
   "source": [
    "## Popcorn Hack 1\n",
    "\n",
    "\n"
   ]
  },
  {
   "cell_type": "code",
   "execution_count": 4,
   "metadata": {},
   "outputs": [
    {
     "name": "stdout",
     "output_type": "stream",
     "text": [
      "3\n",
      "1\n",
      "2\n",
      "3\n",
      "4\n",
      "5\n"
     ]
    }
   ],
   "source": [
    "arr = [1, 2, 3, 4, 5]\n",
    "print(arr[2])  # O(1)\n",
    "for num in arr:\n",
    "    print(num)  # O(n)\n",
    "\n"
   ]
  },
  {
   "cell_type": "markdown",
   "metadata": {},
   "source": [
    "Explanation: Looping through every element grows linearly with the size of the input."
   ]
  },
  {
   "cell_type": "markdown",
   "metadata": {},
   "source": [
    "## Popcorn Hack #2\n"
   ]
  },
  {
   "cell_type": "code",
   "execution_count": 5,
   "metadata": {},
   "outputs": [
    {
     "name": "stdout",
     "output_type": "stream",
     "text": [
      "(1, 2)\n",
      "(1, 3)\n",
      "(2, 3)\n"
     ]
    }
   ],
   "source": [
    "# Popcorn Hack #2\n",
    "# Task: Print all unique pairs from arr = [1, 2, 3]\n",
    "\n",
    "def print_unique_pairs(arr):\n",
    "    # Loop through each index in the array\n",
    "    for i in range(len(arr)):\n",
    "        # Loop through the next indices to avoid duplicates and self-pairs\n",
    "        for j in range(i + 1, len(arr)):\n",
    "            print(f\"({arr[i]}, {arr[j]})\")\n",
    "\n",
    "# Example array\n",
    "arr = [1, 2, 3]\n",
    "\n",
    "# Function call\n",
    "print_unique_pairs(arr)\n",
    "\n"
   ]
  },
  {
   "cell_type": "markdown",
   "metadata": {},
   "source": [
    "Explanation: The function uses nested loops, where each element is compared with every following element — this results in quadratic growth."
   ]
  },
  {
   "cell_type": "markdown",
   "metadata": {},
   "source": [
    "## Popcorn Hack 3\n",
    "\n",
    " ### Q1: Which is inefficient for large inputs?\n",
    " ✅ Correct Answer: b) Factorial Time\n",
    " Explanation: Factorial time grows extremely fast as the input size increases, making algorithms with this complexity impractical for large inputs. For example, an algorithm with O(n!) complexity can easily become unmanageable for n > 20.\n",
    "\n",
    " ### Q2: Which can be represented by a nested loop?\n",
    " ✅ Correct Answer: c) Quadratic Time\n",
    "Explanation: Quadratic time (O(n²)) often comes from algorithms that involve two nested loops iterating over the same dataset, such as bubble sort or nested loops checking pairs of elements. Each additional layer of nesting increases the time complexity.\n",
    "\n",
    "\n",
    "\n"
   ]
  },
  {
   "cell_type": "markdown",
   "metadata": {},
   "source": [
    "## Homework Hack"
   ]
  },
  {
   "cell_type": "code",
   "execution_count": 6,
   "metadata": {},
   "outputs": [
    {
     "name": "stdout",
     "output_type": "stream",
     "text": [
      "Constant:\n",
      "5\n",
      "\n",
      "Linear:\n",
      "5\n",
      "10\n",
      "15\n",
      "20\n",
      "25\n",
      "\n",
      "Quadratic:\n",
      "(5, 5)\n",
      "(5, 10)\n",
      "(5, 15)\n",
      "(5, 20)\n",
      "(5, 25)\n",
      "(10, 5)\n",
      "(10, 10)\n",
      "(10, 15)\n",
      "(10, 20)\n",
      "(10, 25)\n",
      "(15, 5)\n",
      "(15, 10)\n",
      "(15, 15)\n",
      "(15, 20)\n",
      "(15, 25)\n",
      "(20, 5)\n",
      "(20, 10)\n",
      "(20, 15)\n",
      "(20, 20)\n",
      "(20, 25)\n",
      "(25, 5)\n",
      "(25, 10)\n",
      "(25, 15)\n",
      "(25, 20)\n",
      "(25, 25)\n"
     ]
    }
   ],
   "source": [
    "def run_by_complexity(arr, complexity):\n",
    "    if complexity == \"constant\":\n",
    "        return arr[0]  # O(1)\n",
    "    \n",
    "    elif complexity == \"linear\":\n",
    "        for item in arr:  # O(n)\n",
    "            print(item)\n",
    "    \n",
    "    elif complexity == \"quadratic\":\n",
    "        for i in arr:         # O(n²)\n",
    "            for j in arr:\n",
    "                print(f\"({i}, {j})\")\n",
    "\n",
    "# Example usage:\n",
    "arr = [5, 10, 15, 20, 25]\n",
    "print(\"Constant:\")\n",
    "print(run_by_complexity(arr, \"constant\"))\n",
    "\n",
    "print(\"\\nLinear:\")\n",
    "run_by_complexity(arr, \"linear\")\n",
    "\n",
    "print(\"\\nQuadratic:\")\n",
    "run_by_complexity(arr, \"quadratic\")\n",
    "\n"
   ]
  },
  {
   "cell_type": "markdown",
   "metadata": {},
   "source": [
    "Explanation: This code uses two nested loops to iterate through the array and print all unique pairs without repeating or pairing the same elements. The outer loop picks the first number, and the inner loop picks the second number from the remaining elements. Since each element is paired with every other element after it, the time complexity is O(n²)"
   ]
  }
 ],
 "metadata": {
  "kernelspec": {
   "display_name": "venv",
   "language": "python",
   "name": "python3"
  },
  "language_info": {
   "codemirror_mode": {
    "name": "ipython",
    "version": 3
   },
   "file_extension": ".py",
   "mimetype": "text/x-python",
   "name": "python",
   "nbconvert_exporter": "python",
   "pygments_lexer": "ipython3",
   "version": "3.12.6"
  }
 },
 "nbformat": 4,
 "nbformat_minor": 2
}
