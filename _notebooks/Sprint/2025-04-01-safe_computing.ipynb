{
 "cells": [
  {
   "cell_type": "raw",
   "metadata": {
    "vscode": {
     "languageId": "raw"
    }
   },
   "source": [
    "---\n",
    "toc: true\n",
    "comments: true\n",
    "layout: post\n",
    "title: \"Safe Computing\"\n",
    "type: ccc\n",
    "---"
   ]
  },
  {
   "cell_type": "markdown",
   "metadata": {},
   "source": [
    "## 🎯 Popcorn Hack: Identify PII\n",
    "Which of the following is considered PII?\n",
    "\n",
    "A. Fingerprint\n",
    "B. Favorite Color\n",
    "C. Zip Code\n",
    "D. Job Title\n",
    "\n",
    "Answer: A\n",
    "\n"
   ]
  },
  {
   "cell_type": "markdown",
   "metadata": {},
   "source": [
    "## 🎯 Pop Quiz: Multifactor Authentication\n",
    "Which of the following is NOT an example of a multifactor authentication (MFA) factor?\n",
    "\n",
    "A. A password used to log into an email account.\n",
    "B. A verification code sent to a user's phone.\n",
    "C. A fingerprint scan on a smartphone.\n",
    "D. A username required to log in.  \n",
    "\n",
    "Correct Answer: D"
   ]
  },
  {
   "cell_type": "markdown",
   "metadata": {},
   "source": [
    "##  🔒 Popcorn Hack: Encryption Quiz\n",
    "Popcorn Hack (MC question from College Board)\n",
    "Which of the following is an example of symmetric encryption?\n",
    "- A. Evy buys a locked box that operates using two different codes. When the first code is entered, a slot opens that allows a message to be put in the box. When the second code is entered, the door to the box opens. Evy gives the first code to her friends so they can leave messages for her and keeps the second code to herself so that she is the only one who can retrieve the messages.\n",
    "- B. Finn and Gwen develop a system that maps each letter of the alphabet to a unique symbol using a secret key. Finn uses the key to write a message to Gwen where each letter is replaced with the corresponding symbol. Gwen uses the key to map each symbol back to the original letter.\n",
    "- C. Hannah writes a message to send to Isabel and hides the message under a rock behind the soccer field. Hannah gives Isabel the exact location of the rock so that only Isabel can find the message.\n",
    "- D. Juan writes a message to send to Kelly and slides the message through a slot in the front of Kelly’s locker. Juan knows that Kelly has not shared her locker combination with anyone, so no one other than Kelly will be able to read the message.\n",
    "\n",
    "\n",
    "Correct Answer: B"
   ]
  },
  {
   "cell_type": "markdown",
   "metadata": {},
   "source": [
    "## 🔑 Popcorn Hack: Password Security\n",
    "\n",
    "Password Made: cCyqfdpYd3Ts.5Y\n",
    "\n",
    "A good password is long, unique, and hard to guess. It should include a mix of uppercase and lowercase letters, numbers, and special characters. Do not use common words, birthdays, or easy sequences like \"123456\" or \"password.\" Another good idea is to create a passphrase—a mixed-up set of words. For added security, use a password manager to create and store complicated passwords."
   ]
  }
 ],
 "metadata": {
  "language_info": {
   "name": "python"
  }
 },
 "nbformat": 4,
 "nbformat_minor": 2
}
