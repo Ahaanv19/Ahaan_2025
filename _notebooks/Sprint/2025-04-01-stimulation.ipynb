{
 "cells": [
  {
   "cell_type": "raw",
   "metadata": {
    "vscode": {
     "languageId": "raw"
    }
   },
   "source": [
    "---\n",
    "toc: true\n",
    "comments: true\n",
    "layout: post\n",
    "title: \"Random Algorithms and Simulations\"\n",
    "type: ccc\n",
    "---"
   ]
  },
  {
   "cell_type": "markdown",
   "metadata": {},
   "source": [
    "# Random Algorithms"
   ]
  },
  {
   "cell_type": "markdown",
   "metadata": {},
   "source": [
    "## Popcorn Hack #1: Brainstorm\n",
    "Q: What do you think a random algorithm is?\n",
    "- Answer: A random algorithm is a set of instructions that includes randomness or unpredictability to help make decisions or generate outputs.\n",
    "\n",
    "Q: What would be a reason to use random algorithms in real-life coding situations?\n",
    "- Answer: To make programs more efficient, simulate real-world situations (like weather or behavior), create variety (like in games), or ensure fairness (like randomized trials or voting).\n",
    "\n",
    "Q: What kind of questions do you think College Board will ask regarding Random Algorithms?\n",
    "- Answer: They’ll likely ask questions like how random values can affect outcomes or what range of values a RANDOM() function produces.\n",
    "\n",
    "\n",
    "\n",
    "\n"
   ]
  },
  {
   "cell_type": "markdown",
   "metadata": {},
   "source": [
    "## Popcorn Hack 2"
   ]
  },
  {
   "cell_type": "code",
   "execution_count": 1,
   "metadata": {},
   "outputs": [
    {
     "name": "stdout",
     "output_type": "stream",
     "text": [
      "Today’s random activity: Watch a movie\n"
     ]
    }
   ],
   "source": [
    "# Popcorn Hack Number 2 (Random): Make a random algorithm to choose a daily activity:\n",
    "import random\n",
    "# Step 1: Define a list of activities\n",
    "activities = ['Playing Brawl Stars', 'Read a book', 'Watching Youtube', 'Play on Nintendo Switch', 'Watch a movie', 'Take a nap']\n",
    "# Step 2: Randomly choose an activity\n",
    "random_activity = random.choice(activities)\n",
    "# Step 3: Display the chosen activity\n",
    "print(f\"Today’s random activity: {random_activity}\")\n"
   ]
  },
  {
   "cell_type": "markdown",
   "metadata": {},
   "source": [
    "## Popcorn Hack 3"
   ]
  },
  {
   "cell_type": "code",
   "execution_count": 2,
   "metadata": {},
   "outputs": [
    {
     "name": "stdout",
     "output_type": "stream",
     "text": [
      "Ahaan will be monitoring movie!\n",
      "Arnav will be monitoring code, code, code!\n",
      "Weston will be monitoring games!\n"
     ]
    }
   ],
   "source": [
    "# Popcorn Hack Number 3: Using a loops in random\n",
    "# This popcorn hack assigns an activity to each person\n",
    "import random\n",
    "hosts = ['Ahaan', 'Arnav', 'Weston']\n",
    "activities = ['code, code, code', 'games', 'movie']\n",
    "# Randomly shuffle the list of activities to assign them randomly to the guests\n",
    "random.shuffle(activities)\n",
    "# Loop through each guest and assign them a random activity\n",
    "for i in range(len(hosts)):\n",
    "    print(f\"{hosts[i]} will be monitoring {activities[i]}!\")\n"
   ]
  },
  {
   "cell_type": "markdown",
   "metadata": {},
   "source": [
    "## College Board Application: Looking at MCQ’s"
   ]
  },
  {
   "cell_type": "markdown",
   "metadata": {},
   "source": [
    "<img src=\"{{site.baseurl}}/images/mcq1.png\" alt=\"img\">"
   ]
  },
  {
   "cell_type": "markdown",
   "metadata": {},
   "source": [
    "Answer: C\n",
    "This is correct because Answer C is not possible on the first iteration, i is 2, so pick can only be 1 or 2. Since 3 can't be chosen at that point, the sequence starting with 3 can't occur."
   ]
  },
  {
   "cell_type": "markdown",
   "metadata": {},
   "source": [
    "## MC Question\n",
    "\n",
    "Which of the following can be used to replace < MISSING CODE > so that the simulation works as intended?\n",
    "- A: RANDOM, open parenthesis 1 comma 100, close parenthesis, equals 25\n",
    "- B: RANDOM, open parenthesis 1 comma 100, close parenthesis, is less than or equal to 25\n",
    "- C: RANDOM, open parenthesis 1 comma 100, close parenthesis, equals 75\n",
    "- D: RANDOM, open parenthesis 1 comma 100, close parenthesis, is less than or equal to 75\n",
    "\n",
    "\n",
    "Answer: D\n",
    "This option is correct because it gives a 75% chance of success by covering numbers 1 through 75 out of 100 possible outcomes."
   ]
  },
  {
   "cell_type": "markdown",
   "metadata": {},
   "source": [
    "# Simulations"
   ]
  },
  {
   "cell_type": "markdown",
   "metadata": {},
   "source": [
    "## Popcorn Hack 1"
   ]
  },
  {
   "cell_type": "code",
   "execution_count": 37,
   "metadata": {},
   "outputs": [
    {
     "name": "stdout",
     "output_type": "stream",
     "text": [
      "Number: 54\n"
     ]
    }
   ],
   "source": [
    "import random\n",
    "\n",
    "def roll_spin():\n",
    "    return random.randint(1, 68)\n",
    "\n",
    "dice_roll = roll_spin()\n",
    "print(\"Number:\", dice_roll)"
   ]
  },
  {
   "cell_type": "markdown",
   "metadata": {},
   "source": [
    "## Popcorn Hack 2\n"
   ]
  },
  {
   "cell_type": "code",
   "execution_count": 8,
   "metadata": {},
   "outputs": [
    {
     "name": "stdout",
     "output_type": "stream",
     "text": [
      "Computer chose: scissors\n",
      "You chose: rock\n",
      "You win!\n"
     ]
    }
   ],
   "source": [
    "import random\n",
    "\n",
    "def play_rock_paper_scissors():\n",
    "    choices = ['rock', 'paper', 'scissors']\n",
    "    computer_choice = random.choice(choices)\n",
    "    user_choice = input(\"Enter your choice (rock, paper, or scissors): \")\n",
    "\n",
    "    if user_choice not in choices:\n",
    "        print(\"Invalid choice. Please try again.\")\n",
    "        return\n",
    "\n",
    "    print(\"Computer chose:\", computer_choice)\n",
    "    print(\"You chose:\", user_choice)\n",
    "\n",
    "    if user_choice == computer_choice:\n",
    "        print(\"It's a tie!\")\n",
    "    elif (user_choice == 'rock' and computer_choice == 'scissors') or (user_choice == 'paper' and computer_choice == 'rock') or (user_choice == 'scissors' and computer_choice == 'paper'):\n",
    "        print(\"You win!\")\n",
    "    else:\n",
    "        print(\"You lose!\")\n",
    "\n",
    "play_rock_paper_scissors()"
   ]
  },
  {
   "cell_type": "markdown",
   "metadata": {},
   "source": [
    "## College Board Application: Looking at MCQ’s\n",
    "\n",
    "Which of the following strategies is LEAST likely to provide a more accurate prediction?\n",
    "- A: Gathering data for additional years to try to identify patterns in birth rates\n",
    "- B: Refining the model used in the computer simulation to more closely reflect the data from the past ten years\n",
    "- C: Removing as many details from the model as possible so that calculations can be performed quickly\n",
    "- D: Taking into consideration more information about the community, such as the ages of residents\n",
    "\n",
    "Answer: C\n",
    "Answer C is correct because removing details from a model may speed up calculations, but it reduces accuracy. Accurate predictions require more relevant data, not less.\n",
    "\n"
   ]
  },
  {
   "cell_type": "raw",
   "metadata": {},
   "source": [
    "## Code for the simulation is shown below.\n",
    "days ← 0\n",
    "numMice ← InitialMousePopulation()\n",
    "numPredators ← InitialPredatorPopulation()\n",
    "REPEAT UNTIL (days = 365)\n",
    "{\n",
    "    numMice ← NextDayPopulation(numMice, numPredators)\n",
    "    days ← days + 1\n",
    "}\n",
    "DISPLAY(\"There are\")\n",
    "DISPLAY(numMice)\n",
    "DISPLAY(\"mice after one year.\")"
   ]
  },
  {
   "cell_type": "markdown",
   "metadata": {},
   "source": [
    "\n",
    "Based on the code, which of the following assumptions is made in the simulation?\n",
    "- A: The number of mice increases by 1 each day.\n",
    "- B: The number of mice does not change from day to day.\n",
    "- C: The number of predators increases by 1 each day.\n",
    "- D: The number of predators does not change from day to day.\n",
    "\n",
    "Answer: D\n",
    "This is correct because the simulation sets the number of predators at the start but never changes it throughout the program. This means the model assumes the predator population stays constant each day.\n"
   ]
  },
  {
   "cell_type": "markdown",
   "metadata": {},
   "source": [
    "# Random Algorithms"
   ]
  },
  {
   "cell_type": "markdown",
   "metadata": {},
   "source": [
    "### Homework Hack 1\n",
    "\n"
   ]
  },
  {
   "cell_type": "code",
   "execution_count": 18,
   "metadata": {},
   "outputs": [
    {
     "name": "stdout",
     "output_type": "stream",
     "text": [
      "Random Team Assignments:\n",
      "\n",
      "Team Del Norte: Ahaan, Arnav, Brown, Jade, Kyle, Luna, Oscar\n",
      "Team Westview: Alice, Weston, Manas, Lanzi\n",
      "Team Poway High: Ameya, Grace, Travis, James\n"
     ]
    }
   ],
   "source": [
    "import random\n",
    "\n",
    "# List of 15 students\n",
    "students = [\n",
    "    'Alice', 'Ahaan', 'Arnav', 'Weston', 'Ameya', \n",
    "    'Manas', 'Grace', 'Lanzi', 'Brown', 'Jade', \n",
    "    'Kyle', 'Luna', 'Travis', 'James', 'Oscar'\n",
    "]\n",
    "\n",
    "# Define 3 creative team names\n",
    "teams = {\n",
    "    'Team Del Norte': [],\n",
    "    'Team Westview': [],\n",
    "    'Team Poway High': []\n",
    "}\n",
    "\n",
    "# Randomly assign students to teams\n",
    "for student in students:\n",
    "    chosen_team = random.choice(list(teams.keys()))\n",
    "    teams[chosen_team].append(student)\n",
    "\n",
    "# Print team assignments\n",
    "print(\"Random Team Assignments:\\n\")\n",
    "for team_name, members in teams.items():\n",
    "    print(f\"{team_name}: {', '.join(members)}\")\n",
    "\n",
    "\n",
    "\n"
   ]
  },
  {
   "cell_type": "markdown",
   "metadata": {},
   "source": [
    "### Homework Hack 2\n"
   ]
  },
  {
   "cell_type": "code",
   "execution_count": 19,
   "metadata": {},
   "outputs": [
    {
     "name": "stdout",
     "output_type": "stream",
     "text": [
      "7-Day Weather Forecast:\n",
      "Day 1: Cloudy\n",
      "Day 2: Rainy\n",
      "Day 3: Sunny\n",
      "Day 4: Rainy\n",
      "Day 5: Cloudy\n",
      "Day 6: Rainy\n",
      "Day 7: Sunny\n"
     ]
    }
   ],
   "source": [
    "import random\n",
    "\n",
    "# Possible weather types\n",
    "weather_types = ['Sunny', 'Cloudy', 'Rainy']\n",
    "\n",
    "# Generate forecast for 7 days\n",
    "print(\"7-Day Weather Forecast:\")\n",
    "for day in range(1, 8):\n",
    "    forecast = random.choice(weather_types)\n",
    "    print(f\"Day {day}: {forecast}\")\n"
   ]
  },
  {
   "cell_type": "markdown",
   "metadata": {},
   "source": [
    "# Simulations"
   ]
  },
  {
   "cell_type": "markdown",
   "metadata": {},
   "source": [
    "### Homework Hack 1"
   ]
  },
  {
   "cell_type": "code",
   "execution_count": 20,
   "metadata": {},
   "outputs": [
    {
     "name": "stdout",
     "output_type": "stream",
     "text": [
      "Customer 1 will take 4 minutes to be served.\n",
      "Customer 2 will take 4 minutes to be served.\n",
      "Customer 3 will take 3 minutes to be served.\n",
      "Customer 4 will take 4 minutes to be served.\n",
      "Customer 5 will take 2 minutes to be served.\n",
      "\n",
      "Total time to serve all customers: 17 minutes\n"
     ]
    }
   ],
   "source": [
    "import random\n",
    "\n",
    "# 5 customers with random service times between 1 and 5 minutes\n",
    "service_times = []\n",
    "for i in range(1, 6):\n",
    "    time = random.randint(1, 5)\n",
    "    service_times.append(time)\n",
    "    print(f\"Customer {i} will take {time} minutes to be served.\")\n",
    "\n",
    "# Calculate the total service time\n",
    "total_time = sum(service_times)\n",
    "print(f\"\\nTotal time to serve all customers: {total_time} minutes\")"
   ]
  }
 ],
 "metadata": {
  "kernelspec": {
   "display_name": "venv",
   "language": "python",
   "name": "python3"
  },
  "language_info": {
   "codemirror_mode": {
    "name": "ipython",
    "version": 3
   },
   "file_extension": ".py",
   "mimetype": "text/x-python",
   "name": "python",
   "nbconvert_exporter": "python",
   "pygments_lexer": "ipython3",
   "version": "3.12.6"
  }
 },
 "nbformat": 4,
 "nbformat_minor": 2
}
