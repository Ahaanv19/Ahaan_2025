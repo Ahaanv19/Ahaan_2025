{
 "cells": [
  {
   "cell_type": "raw",
   "metadata": {
    "vscode": {
     "languageId": "raw"
    }
   },
   "source": [
    "---\n",
    "toc: true\n",
    "comments: true\n",
    "layout: post\n",
    "title: \"BI 3 Logic Gates\"\n",
    "type: ccc\n",
    "---"
   ]
  },
  {
   "cell_type": "markdown",
   "metadata": {},
   "source": [
    "## Popcorn Hack: Real-World Applications of Logic Gates\n",
    "\n",
    "Logic gates play a crucial role in various real-world applications by implementing binary decision-making processes. For instance, **NAND** and **NOR** gates are referred to as **universal gates** because any digital circuit can be constructed using just these two types of gates. This feature is important because these gates allow engineers to design complex systems in a minimalistic way. \n",
    "\n",
    "For example:\n",
    "- **NAND gates** are used in the design of memory storage devices (e.g., Flash memory) because they are efficient and can be used to build other gates. In NAND, if both inputs are 1, the output will be 0. This feature is essential for operations like logical negation, which is vital for memory storage operations.\n",
    "- **XOR gates** are helpful for **error detection** and **parity checking** in data transmission, ensuring that data integrity is maintained when sent over long distances or through unreliable channels. In XOR, the output is 1 only if the inputs differ, which is ideal for identifying discrepancies in data transmission.\n",
    "\n",
    "## Popcorn Hack 2: Logic Gate Expression\n",
    "\n",
    "The circuit outputs 1 if:\n",
    "- X AND Y are both 1, OR\n",
    "- Z is 1.\n",
    "\n",
    "The Boolean expression for this behavior is:\n",
    "\n",
    "**A. (X AND Y) OR Z**\n",
    "\n",
    "This corresponds to the condition where the circuit outputs 1 if either X and Y are both 1 (AND operation) or Z is 1 (OR operation).\n",
    "\n"
   ]
  },
  {
   "cell_type": "markdown",
   "metadata": {},
   "source": [
    "## Homework Hack\n"
   ]
  },
  {
   "cell_type": "code",
   "execution_count": 1,
   "metadata": {},
   "outputs": [
    {
     "name": "stdout",
     "output_type": "stream",
     "text": [
      "1\n",
      "0\n",
      "0\n",
      "0\n"
     ]
    }
   ],
   "source": [
    "# Secure Entry System using AND Gate Logic\n",
    "\n",
    "def secure_entry_system(keycard, pin, voice_auth):\n",
    "    def AND(a, b):\n",
    "        return a & b  # AND logic: returns 1 only if both are 1\n",
    "    \n",
    "    # First combine keycard and pin using AND\n",
    "    first_check = AND(keycard, pin)\n",
    "    \n",
    "    # Then combine the result with voice authorization\n",
    "    final_check = AND(first_check, voice_auth)\n",
    "    \n",
    "    return final_check\n",
    "\n",
    "# Test cases\n",
    "print(secure_entry_system(1, 1, 1))  # Expected Output: 1 (Access Granted)\n",
    "print(secure_entry_system(1, 1, 0))  # Expected Output: 0 (Access Denied)\n",
    "print(secure_entry_system(1, 0, 1))  # Expected Output: 0 (Access Denied)\n",
    "print(secure_entry_system(0, 1, 1))  # Expected Output: 0 (Access Denied)\n"
   ]
  },
  {
   "cell_type": "markdown",
   "metadata": {},
   "source": [
    "\n",
    "## Explanation\n",
    "- **AND Gate** logic requires **both inputs to be 1** to output 1.\n",
    "- In our secure system, the user must:\n",
    "  1. Have a valid **keycard** (1 for yes, 0 for no),\n",
    "  2. Enter the correct **PIN** (1 for yes, 0 for no),\n",
    "  3. Pass **voice authorization** (1 for yes, 0 for no).\n",
    "\n",
    "**If all three conditions are true (1), access is granted. Otherwise, access is denied (0).**\n",
    "\n",
    "---\n",
    "\n",
    "## Summary\n",
    "- **Access is granted** only if `keycard`, `pin`, and `voice_auth` are all 1.\n",
    "- **If any one is 0**, **access is denied**.\n",
    "- This simulates real-world high-security systems where **multiple forms of verification** are required.\n",
    "\n",
    "---\n"
   ]
  }
 ],
 "metadata": {
  "kernelspec": {
   "display_name": "venv",
   "language": "python",
   "name": "python3"
  },
  "language_info": {
   "codemirror_mode": {
    "name": "ipython",
    "version": 3
   },
   "file_extension": ".py",
   "mimetype": "text/x-python",
   "name": "python",
   "nbconvert_exporter": "python",
   "pygments_lexer": "ipython3",
   "version": "3.12.6"
  }
 },
 "nbformat": 4,
 "nbformat_minor": 2
}
