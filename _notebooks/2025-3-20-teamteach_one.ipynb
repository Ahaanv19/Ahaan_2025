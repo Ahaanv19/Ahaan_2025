{
 "cells": [
  {
   "cell_type": "raw",
   "metadata": {
    "vscode": {
     "languageId": "raw"
    }
   },
   "source": [
    "---\n",
    "toc: true\n",
    "comments: true\n",
    "layout: post\n",
    "title: \"5.1 Beneficial/Harmful Effects Hacks\"\n",
    "type: ccc\n",
    "---"
   ]
  },
  {
   "cell_type": "markdown",
   "metadata": {},
   "source": [
    "## Popcorn Hack 1\n",
    "\n",
    "Technology improves efficiency and connectivity but also causes job loss and privacy concerns. For example, AI enhances healthcare but risks data misuse. Balancing innovation with ethics is crucial.\n"
   ]
  },
  {
   "cell_type": "markdown",
   "metadata": {
    "vscode": {
     "languageId": "raw"
    }
   },
   "source": [
    "## Popcorn Hack 2"
   ]
  },
  {
   "cell_type": "markdown",
   "metadata": {},
   "source": [
    "Negative effects on technology include things like CyberBullying. Also a depending on AI technology, causes a lose of social skills, and overall, however AI will never be as good as humans. The rise of AI also creates privacy concens, data collection, and surveillance technologies, personal privacy is increasingly at risk. "
   ]
  },
  {
   "cell_type": "markdown",
   "metadata": {},
   "source": [
    "## Popcorn Hack 3\n",
    "\n",
    "It is important to  understand the unintended consquences of technolgy, esspically dopamine-driven technology because, because it can lead to addiction, reduced attention spans, mental health issues, and manipulation through excessive engagement. By understanding the consquences, we can learn how to become less depedent on techonlogy, and understand the harmful impacts of social media."
   ]
  },
  {
   "cell_type": "markdown",
   "metadata": {},
   "source": [
    "## Homework Hack 1\n",
    "AI Innovation: Facial Recognition\n",
    "\n",
    "Original Use: To be utilized for security identification and verification.\n",
    "\n",
    "New Use: Medical diagnosis – being utilized in schools to recognize pupil emotions and levels of engagement in real time, helps teachers alter their teaching methods to improve learning outcomes.\n",
    "\n",
    "Benfits:\n",
    "- Enables early detection to receive prompt medical attention.\n",
    "- Provides a non-surgical and continuous monitoring system.\n",
    "\n",
    "Risks:\n",
    "- Privacy concerns related to storage of medical data and abuse.\n",
    "- Lack of accurate diagnoses causing unnecessary stress."
   ]
  },
  {
   "cell_type": "markdown",
   "metadata": {},
   "source": [
    "## Homework Hack 2\n",
    "Problem: AI-powered resume screening may be biased against certain groups.\n",
    "\n",
    "Risk: Bias in training data can lead to biased hiring, with AI favoring specific genders, races, or schools.\n",
    "\n",
    "Solutions:\n",
    "1. Employ representative and diverse training data to prevent bias.\n",
    "2. Include human oversight in final hiring decisions to ensure fairness.\n",
    "\n",
    "Reflection: AI must be developed with fairness and inclusiveness in consideration. Ethical AI development avoids discrimination and assures technology is for the benefit of all users equally."
   ]
  },
  {
   "cell_type": "markdown",
   "metadata": {},
   "source": [
    "## Homework Hack 3\n",
    "\n",
    "Example: Amazon's AI hiring tool\n",
    "\n",
    "Summary: Amazon developed an AI tool to streamline hiring. The tool, however, unintentionally discriminated against male applicants because it was trained on past hiring data, which was biased in favor of men.\n",
    "\n",
    "What Happened? The AI flagged down resumes containing words linked to women's education and activities, echoing gender bias.\n",
    "\n",
    "Response: Amazon eventually dropped the tool once it became aware of the bias issue.\n",
    "\n",
    "Prevention: AI developers must test for biases in hiring models prior to application and have diversity and unbiased training data."
   ]
  }
 ],
 "metadata": {
  "language_info": {
   "name": "python"
  }
 },
 "nbformat": 4,
 "nbformat_minor": 2
}
